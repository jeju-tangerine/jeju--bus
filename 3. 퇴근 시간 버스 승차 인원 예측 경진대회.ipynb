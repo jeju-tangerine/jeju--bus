{
 "cells": [
  {
   "cell_type": "markdown",
   "metadata": {},
   "source": [
    "#### 3.1.4.3. 데이터 경로 설정"
   ]
  },
  {
   "cell_type": "code",
   "execution_count": 29,
   "metadata": {},
   "outputs": [],
   "source": [
    "# 작업 경로를 'dacon' 폴더로 설정\n",
    "import os\n",
    "os.chdir(r\"C:\\dacon\")"
   ]
  },
  {
   "cell_type": "markdown",
   "metadata": {},
   "source": [
    "### 3.2.1. 데이터 설명"
   ]
  },
  {
   "cell_type": "code",
   "execution_count": 30,
   "metadata": {},
   "outputs": [],
   "source": [
    "import pandas as pd\n",
    "\n",
    "# 데이터 로드\n",
    "train = pd.read_csv('train.csv')\n",
    "test = pd.read_csv('test.csv')\n",
    "bts= pd.read_csv('bus_bts.csv')\n",
    "jeju_life = pd.read_csv('jeju_financial_life_data.csv')\n",
    "weather = pd.read_csv('weather.csv', encoding='cp949')\n",
    "rain = pd.read_csv('rain.csv', encoding='utf-8')"
   ]
  },
  {
   "cell_type": "code",
   "execution_count": 31,
   "metadata": {},
   "outputs": [
    {
     "data": {
      "text/html": [
       "<div>\n",
       "<style scoped>\n",
       "    .dataframe tbody tr th:only-of-type {\n",
       "        vertical-align: middle;\n",
       "    }\n",
       "\n",
       "    .dataframe tbody tr th {\n",
       "        vertical-align: top;\n",
       "    }\n",
       "\n",
       "    .dataframe thead th {\n",
       "        text-align: right;\n",
       "    }\n",
       "</style>\n",
       "<table border=\"1\" class=\"dataframe\">\n",
       "  <thead>\n",
       "    <tr style=\"text-align: right;\">\n",
       "      <th></th>\n",
       "      <th>id</th>\n",
       "      <th>date</th>\n",
       "      <th>bus_route_id</th>\n",
       "      <th>in_out</th>\n",
       "      <th>station_code</th>\n",
       "      <th>station_name</th>\n",
       "      <th>latitude</th>\n",
       "      <th>longitude</th>\n",
       "      <th>6~7_ride</th>\n",
       "      <th>7~8_ride</th>\n",
       "      <th>...</th>\n",
       "      <th>9~10_ride</th>\n",
       "      <th>10~11_ride</th>\n",
       "      <th>11~12_ride</th>\n",
       "      <th>6~7_takeoff</th>\n",
       "      <th>7~8_takeoff</th>\n",
       "      <th>8~9_takeoff</th>\n",
       "      <th>9~10_takeoff</th>\n",
       "      <th>10~11_takeoff</th>\n",
       "      <th>11~12_takeoff</th>\n",
       "      <th>18~20_ride</th>\n",
       "    </tr>\n",
       "  </thead>\n",
       "  <tbody>\n",
       "    <tr>\n",
       "      <th>0</th>\n",
       "      <td>0</td>\n",
       "      <td>2019-09-01</td>\n",
       "      <td>4270000</td>\n",
       "      <td>시외</td>\n",
       "      <td>344</td>\n",
       "      <td>제주썬호텔</td>\n",
       "      <td>33.48990</td>\n",
       "      <td>126.49373</td>\n",
       "      <td>0.0</td>\n",
       "      <td>1.0</td>\n",
       "      <td>...</td>\n",
       "      <td>5.0</td>\n",
       "      <td>2.0</td>\n",
       "      <td>6.0</td>\n",
       "      <td>0.0</td>\n",
       "      <td>0.0</td>\n",
       "      <td>0.0</td>\n",
       "      <td>0.0</td>\n",
       "      <td>0.0</td>\n",
       "      <td>0.0</td>\n",
       "      <td>0.0</td>\n",
       "    </tr>\n",
       "    <tr>\n",
       "      <th>1</th>\n",
       "      <td>1</td>\n",
       "      <td>2019-09-01</td>\n",
       "      <td>4270000</td>\n",
       "      <td>시외</td>\n",
       "      <td>357</td>\n",
       "      <td>한라병원</td>\n",
       "      <td>33.48944</td>\n",
       "      <td>126.48508</td>\n",
       "      <td>1.0</td>\n",
       "      <td>4.0</td>\n",
       "      <td>...</td>\n",
       "      <td>2.0</td>\n",
       "      <td>5.0</td>\n",
       "      <td>6.0</td>\n",
       "      <td>0.0</td>\n",
       "      <td>0.0</td>\n",
       "      <td>0.0</td>\n",
       "      <td>0.0</td>\n",
       "      <td>0.0</td>\n",
       "      <td>0.0</td>\n",
       "      <td>5.0</td>\n",
       "    </tr>\n",
       "    <tr>\n",
       "      <th>2</th>\n",
       "      <td>2</td>\n",
       "      <td>2019-09-01</td>\n",
       "      <td>4270000</td>\n",
       "      <td>시외</td>\n",
       "      <td>432</td>\n",
       "      <td>정존마을</td>\n",
       "      <td>33.48181</td>\n",
       "      <td>126.47352</td>\n",
       "      <td>1.0</td>\n",
       "      <td>1.0</td>\n",
       "      <td>...</td>\n",
       "      <td>2.0</td>\n",
       "      <td>0.0</td>\n",
       "      <td>0.0</td>\n",
       "      <td>0.0</td>\n",
       "      <td>0.0</td>\n",
       "      <td>0.0</td>\n",
       "      <td>0.0</td>\n",
       "      <td>0.0</td>\n",
       "      <td>0.0</td>\n",
       "      <td>2.0</td>\n",
       "    </tr>\n",
       "    <tr>\n",
       "      <th>3</th>\n",
       "      <td>3</td>\n",
       "      <td>2019-09-01</td>\n",
       "      <td>4270000</td>\n",
       "      <td>시내</td>\n",
       "      <td>1579</td>\n",
       "      <td>제주국제공항(600번)</td>\n",
       "      <td>33.50577</td>\n",
       "      <td>126.49252</td>\n",
       "      <td>0.0</td>\n",
       "      <td>17.0</td>\n",
       "      <td>...</td>\n",
       "      <td>26.0</td>\n",
       "      <td>14.0</td>\n",
       "      <td>16.0</td>\n",
       "      <td>0.0</td>\n",
       "      <td>0.0</td>\n",
       "      <td>0.0</td>\n",
       "      <td>0.0</td>\n",
       "      <td>0.0</td>\n",
       "      <td>0.0</td>\n",
       "      <td>53.0</td>\n",
       "    </tr>\n",
       "    <tr>\n",
       "      <th>4</th>\n",
       "      <td>4</td>\n",
       "      <td>2019-09-01</td>\n",
       "      <td>4270000</td>\n",
       "      <td>시내</td>\n",
       "      <td>1646</td>\n",
       "      <td>중문관광단지입구</td>\n",
       "      <td>33.25579</td>\n",
       "      <td>126.41260</td>\n",
       "      <td>0.0</td>\n",
       "      <td>0.0</td>\n",
       "      <td>...</td>\n",
       "      <td>0.0</td>\n",
       "      <td>0.0</td>\n",
       "      <td>0.0</td>\n",
       "      <td>0.0</td>\n",
       "      <td>0.0</td>\n",
       "      <td>0.0</td>\n",
       "      <td>1.0</td>\n",
       "      <td>0.0</td>\n",
       "      <td>0.0</td>\n",
       "      <td>0.0</td>\n",
       "    </tr>\n",
       "  </tbody>\n",
       "</table>\n",
       "<p>5 rows × 21 columns</p>\n",
       "</div>"
      ],
      "text/plain": [
       "   id        date  bus_route_id in_out  station_code  station_name  latitude  \\\n",
       "0   0  2019-09-01       4270000     시외           344         제주썬호텔  33.48990   \n",
       "1   1  2019-09-01       4270000     시외           357          한라병원  33.48944   \n",
       "2   2  2019-09-01       4270000     시외           432          정존마을  33.48181   \n",
       "3   3  2019-09-01       4270000     시내          1579  제주국제공항(600번)  33.50577   \n",
       "4   4  2019-09-01       4270000     시내          1646      중문관광단지입구  33.25579   \n",
       "\n",
       "   longitude  6~7_ride  7~8_ride  ...  9~10_ride  10~11_ride  11~12_ride  \\\n",
       "0  126.49373       0.0       1.0  ...        5.0         2.0         6.0   \n",
       "1  126.48508       1.0       4.0  ...        2.0         5.0         6.0   \n",
       "2  126.47352       1.0       1.0  ...        2.0         0.0         0.0   \n",
       "3  126.49252       0.0      17.0  ...       26.0        14.0        16.0   \n",
       "4  126.41260       0.0       0.0  ...        0.0         0.0         0.0   \n",
       "\n",
       "   6~7_takeoff  7~8_takeoff  8~9_takeoff  9~10_takeoff  10~11_takeoff  \\\n",
       "0          0.0          0.0          0.0           0.0            0.0   \n",
       "1          0.0          0.0          0.0           0.0            0.0   \n",
       "2          0.0          0.0          0.0           0.0            0.0   \n",
       "3          0.0          0.0          0.0           0.0            0.0   \n",
       "4          0.0          0.0          0.0           1.0            0.0   \n",
       "\n",
       "   11~12_takeoff  18~20_ride  \n",
       "0            0.0         0.0  \n",
       "1            0.0         5.0  \n",
       "2            0.0         2.0  \n",
       "3            0.0        53.0  \n",
       "4            0.0         0.0  \n",
       "\n",
       "[5 rows x 21 columns]"
      ]
     },
     "execution_count": 31,
     "metadata": {},
     "output_type": "execute_result"
    }
   ],
   "source": [
    "# 학습 데이터 상위 5줄 출력\n",
    "train.head()"
   ]
  },
  {
   "cell_type": "code",
   "execution_count": 32,
   "metadata": {},
   "outputs": [
    {
     "name": "stdout",
     "output_type": "stream",
     "text": [
      "<class 'pandas.core.frame.DataFrame'>\n",
      "RangeIndex: 415423 entries, 0 to 415422\n",
      "Data columns (total 21 columns):\n",
      "id               415423 non-null int64\n",
      "date             415423 non-null object\n",
      "bus_route_id     415423 non-null int64\n",
      "in_out           415423 non-null object\n",
      "station_code     415423 non-null int64\n",
      "station_name     415423 non-null object\n",
      "latitude         415423 non-null float64\n",
      "longitude        415423 non-null float64\n",
      "6~7_ride         415423 non-null float64\n",
      "7~8_ride         415423 non-null float64\n",
      "8~9_ride         415423 non-null float64\n",
      "9~10_ride        415423 non-null float64\n",
      "10~11_ride       415423 non-null float64\n",
      "11~12_ride       415423 non-null float64\n",
      "6~7_takeoff      415423 non-null float64\n",
      "7~8_takeoff      415423 non-null float64\n",
      "8~9_takeoff      415423 non-null float64\n",
      "9~10_takeoff     415423 non-null float64\n",
      "10~11_takeoff    415423 non-null float64\n",
      "11~12_takeoff    415423 non-null float64\n",
      "18~20_ride       415423 non-null float64\n",
      "dtypes: float64(15), int64(3), object(3)\n",
      "memory usage: 66.6+ MB\n"
     ]
    }
   ],
   "source": [
    "# 학습 데이터 정보 출력\n",
    "train.info()"
   ]
  },
  {
   "cell_type": "code",
   "execution_count": 33,
   "metadata": {},
   "outputs": [
    {
     "data": {
      "text/html": [
       "<div>\n",
       "<style scoped>\n",
       "    .dataframe tbody tr th:only-of-type {\n",
       "        vertical-align: middle;\n",
       "    }\n",
       "\n",
       "    .dataframe tbody tr th {\n",
       "        vertical-align: top;\n",
       "    }\n",
       "\n",
       "    .dataframe thead th {\n",
       "        text-align: right;\n",
       "    }\n",
       "</style>\n",
       "<table border=\"1\" class=\"dataframe\">\n",
       "  <thead>\n",
       "    <tr style=\"text-align: right;\">\n",
       "      <th></th>\n",
       "      <th>user_card_id</th>\n",
       "      <th>bus_route_id</th>\n",
       "      <th>vhc_id</th>\n",
       "      <th>geton_date</th>\n",
       "      <th>geton_time</th>\n",
       "      <th>geton_station_code</th>\n",
       "      <th>geton_station_name</th>\n",
       "      <th>getoff_date</th>\n",
       "      <th>getoff_time</th>\n",
       "      <th>getoff_station_code</th>\n",
       "      <th>getoff_station_name</th>\n",
       "      <th>user_category</th>\n",
       "      <th>user_count</th>\n",
       "    </tr>\n",
       "  </thead>\n",
       "  <tbody>\n",
       "    <tr>\n",
       "      <th>0</th>\n",
       "      <td>1.010010e+15</td>\n",
       "      <td>23000000</td>\n",
       "      <td>149793674</td>\n",
       "      <td>2019-09-10</td>\n",
       "      <td>06:34:45</td>\n",
       "      <td>360</td>\n",
       "      <td>노형오거리</td>\n",
       "      <td>2019-09-10</td>\n",
       "      <td>07:10:31</td>\n",
       "      <td>592.0</td>\n",
       "      <td>화북초등학교</td>\n",
       "      <td>1</td>\n",
       "      <td>1</td>\n",
       "    </tr>\n",
       "    <tr>\n",
       "      <th>1</th>\n",
       "      <td>1.010010e+15</td>\n",
       "      <td>23000000</td>\n",
       "      <td>149793674</td>\n",
       "      <td>2019-09-10</td>\n",
       "      <td>06:34:58</td>\n",
       "      <td>360</td>\n",
       "      <td>노형오거리</td>\n",
       "      <td>2019-09-10</td>\n",
       "      <td>06:56:27</td>\n",
       "      <td>3273.0</td>\n",
       "      <td>고산동산(광양방면)</td>\n",
       "      <td>1</td>\n",
       "      <td>1</td>\n",
       "    </tr>\n",
       "    <tr>\n",
       "      <th>2</th>\n",
       "      <td>1.019160e+15</td>\n",
       "      <td>21420000</td>\n",
       "      <td>149793535</td>\n",
       "      <td>2019-09-10</td>\n",
       "      <td>07:19:07</td>\n",
       "      <td>2495</td>\n",
       "      <td>동광환승정류장4(제주방면)</td>\n",
       "      <td>2019-09-10</td>\n",
       "      <td>07:40:29</td>\n",
       "      <td>431.0</td>\n",
       "      <td>정존마을</td>\n",
       "      <td>4</td>\n",
       "      <td>1</td>\n",
       "    </tr>\n",
       "    <tr>\n",
       "      <th>3</th>\n",
       "      <td>1.019150e+15</td>\n",
       "      <td>21420000</td>\n",
       "      <td>149793512</td>\n",
       "      <td>2019-09-09</td>\n",
       "      <td>09:14:47</td>\n",
       "      <td>3282</td>\n",
       "      <td>대정환승정류장(대정읍사무소)</td>\n",
       "      <td>2019-09-09</td>\n",
       "      <td>10:02:46</td>\n",
       "      <td>431.0</td>\n",
       "      <td>정존마을</td>\n",
       "      <td>1</td>\n",
       "      <td>1</td>\n",
       "    </tr>\n",
       "    <tr>\n",
       "      <th>4</th>\n",
       "      <td>1.010010e+15</td>\n",
       "      <td>21420000</td>\n",
       "      <td>149793512</td>\n",
       "      <td>2019-09-09</td>\n",
       "      <td>09:28:53</td>\n",
       "      <td>2820</td>\n",
       "      <td>삼정지에듀</td>\n",
       "      <td>2019-09-09</td>\n",
       "      <td>10:21:37</td>\n",
       "      <td>2972.0</td>\n",
       "      <td>제주국제공항(종점)</td>\n",
       "      <td>4</td>\n",
       "      <td>1</td>\n",
       "    </tr>\n",
       "  </tbody>\n",
       "</table>\n",
       "</div>"
      ],
      "text/plain": [
       "   user_card_id  bus_route_id     vhc_id  geton_date geton_time  \\\n",
       "0  1.010010e+15      23000000  149793674  2019-09-10   06:34:45   \n",
       "1  1.010010e+15      23000000  149793674  2019-09-10   06:34:58   \n",
       "2  1.019160e+15      21420000  149793535  2019-09-10   07:19:07   \n",
       "3  1.019150e+15      21420000  149793512  2019-09-09   09:14:47   \n",
       "4  1.010010e+15      21420000  149793512  2019-09-09   09:28:53   \n",
       "\n",
       "   geton_station_code geton_station_name getoff_date getoff_time  \\\n",
       "0                 360              노형오거리  2019-09-10    07:10:31   \n",
       "1                 360              노형오거리  2019-09-10    06:56:27   \n",
       "2                2495     동광환승정류장4(제주방면)  2019-09-10    07:40:29   \n",
       "3                3282    대정환승정류장(대정읍사무소)  2019-09-09    10:02:46   \n",
       "4                2820              삼정지에듀  2019-09-09    10:21:37   \n",
       "\n",
       "   getoff_station_code getoff_station_name  user_category  user_count  \n",
       "0                592.0              화북초등학교              1           1  \n",
       "1               3273.0          고산동산(광양방면)              1           1  \n",
       "2                431.0                정존마을              4           1  \n",
       "3                431.0                정존마을              1           1  \n",
       "4               2972.0          제주국제공항(종점)              4           1  "
      ]
     },
     "execution_count": 33,
     "metadata": {},
     "output_type": "execute_result"
    }
   ],
   "source": [
    "# bus_bts 데이터 상위 5줄 출력\n",
    "bts.head()"
   ]
  },
  {
   "cell_type": "code",
   "execution_count": 34,
   "metadata": {},
   "outputs": [
    {
     "name": "stdout",
     "output_type": "stream",
     "text": [
      "<class 'pandas.core.frame.DataFrame'>\n",
      "RangeIndex: 2409414 entries, 0 to 2409413\n",
      "Data columns (total 13 columns):\n",
      "user_card_id           2409414 non-null float64\n",
      "bus_route_id           2409414 non-null int64\n",
      "vhc_id                 2409414 non-null int64\n",
      "geton_date             2409414 non-null object\n",
      "geton_time             2409414 non-null object\n",
      "geton_station_code     2409414 non-null int64\n",
      "geton_station_name     2409365 non-null object\n",
      "getoff_date            1513678 non-null object\n",
      "getoff_time            1513678 non-null object\n",
      "getoff_station_code    1513678 non-null float64\n",
      "getoff_station_name    1513639 non-null object\n",
      "user_category          2409414 non-null int64\n",
      "user_count             2409414 non-null int64\n",
      "dtypes: float64(2), int64(5), object(6)\n",
      "memory usage: 239.0+ MB\n"
     ]
    }
   ],
   "source": [
    "# bus_bts 데이터 정보 출력\n",
    "bts.info(null_counts=True)"
   ]
  },
  {
   "cell_type": "code",
   "execution_count": 35,
   "metadata": {},
   "outputs": [
    {
     "data": {
      "text/html": [
       "<div>\n",
       "<style scoped>\n",
       "    .dataframe tbody tr th:only-of-type {\n",
       "        vertical-align: middle;\n",
       "    }\n",
       "\n",
       "    .dataframe tbody tr th {\n",
       "        vertical-align: top;\n",
       "    }\n",
       "\n",
       "    .dataframe thead th {\n",
       "        text-align: right;\n",
       "    }\n",
       "</style>\n",
       "<table border=\"1\" class=\"dataframe\">\n",
       "  <thead>\n",
       "    <tr style=\"text-align: right;\">\n",
       "      <th></th>\n",
       "      <th>zip_cd</th>\n",
       "      <th>year_month</th>\n",
       "      <th>x_axis</th>\n",
       "      <th>y_axis</th>\n",
       "      <th>sex</th>\n",
       "      <th>age</th>\n",
       "      <th>job_majorc</th>\n",
       "      <th>job_smallc</th>\n",
       "      <th>job_public</th>\n",
       "      <th>job_profession</th>\n",
       "      <th>...</th>\n",
       "      <th>avg_debt</th>\n",
       "      <th>avg_debt_credit</th>\n",
       "      <th>avg_debt_noneb</th>\n",
       "      <th>avg_debt_mortgage</th>\n",
       "      <th>avg_debt_deposit</th>\n",
       "      <th>avg_debt_collateral</th>\n",
       "      <th>avg_credit_rat</th>\n",
       "      <th>medium_resid_rat</th>\n",
       "      <th>large_resid_rat</th>\n",
       "      <th>vehicle_own_rat</th>\n",
       "    </tr>\n",
       "  </thead>\n",
       "  <tbody>\n",
       "    <tr>\n",
       "      <th>0</th>\n",
       "      <td>63299</td>\n",
       "      <td>201902</td>\n",
       "      <td>126.565889</td>\n",
       "      <td>33.513210</td>\n",
       "      <td>1</td>\n",
       "      <td>54</td>\n",
       "      <td>0.0</td>\n",
       "      <td>0.166667</td>\n",
       "      <td>0.000000</td>\n",
       "      <td>0.000000</td>\n",
       "      <td>...</td>\n",
       "      <td>24285196</td>\n",
       "      <td>11419148</td>\n",
       "      <td>8863595</td>\n",
       "      <td>55550000</td>\n",
       "      <td>0</td>\n",
       "      <td>55550000</td>\n",
       "      <td>5</td>\n",
       "      <td>-999999.0</td>\n",
       "      <td>-999999.0</td>\n",
       "      <td>0.000000</td>\n",
       "    </tr>\n",
       "    <tr>\n",
       "      <th>1</th>\n",
       "      <td>63560</td>\n",
       "      <td>201902</td>\n",
       "      <td>126.497121</td>\n",
       "      <td>33.247225</td>\n",
       "      <td>1</td>\n",
       "      <td>59</td>\n",
       "      <td>0.0</td>\n",
       "      <td>0.125000</td>\n",
       "      <td>0.000000</td>\n",
       "      <td>0.000000</td>\n",
       "      <td>...</td>\n",
       "      <td>108571077</td>\n",
       "      <td>25896955</td>\n",
       "      <td>13317443</td>\n",
       "      <td>0</td>\n",
       "      <td>200000000</td>\n",
       "      <td>74421721</td>\n",
       "      <td>4</td>\n",
       "      <td>-999999.0</td>\n",
       "      <td>-999999.0</td>\n",
       "      <td>0.000000</td>\n",
       "    </tr>\n",
       "    <tr>\n",
       "      <th>2</th>\n",
       "      <td>63560</td>\n",
       "      <td>201902</td>\n",
       "      <td>126.497121</td>\n",
       "      <td>33.247225</td>\n",
       "      <td>2</td>\n",
       "      <td>49</td>\n",
       "      <td>0.0</td>\n",
       "      <td>0.250000</td>\n",
       "      <td>0.000000</td>\n",
       "      <td>0.000000</td>\n",
       "      <td>...</td>\n",
       "      <td>26424335</td>\n",
       "      <td>12015311</td>\n",
       "      <td>12015311</td>\n",
       "      <td>40833359</td>\n",
       "      <td>0</td>\n",
       "      <td>40833359</td>\n",
       "      <td>2</td>\n",
       "      <td>-999999.0</td>\n",
       "      <td>-999999.0</td>\n",
       "      <td>0.000000</td>\n",
       "    </tr>\n",
       "    <tr>\n",
       "      <th>3</th>\n",
       "      <td>63560</td>\n",
       "      <td>201902</td>\n",
       "      <td>126.497121</td>\n",
       "      <td>33.247225</td>\n",
       "      <td>1</td>\n",
       "      <td>54</td>\n",
       "      <td>0.0</td>\n",
       "      <td>0.181818</td>\n",
       "      <td>0.090909</td>\n",
       "      <td>0.090909</td>\n",
       "      <td>...</td>\n",
       "      <td>647716901</td>\n",
       "      <td>39952556</td>\n",
       "      <td>21558153</td>\n",
       "      <td>36697792</td>\n",
       "      <td>0</td>\n",
       "      <td>706300496</td>\n",
       "      <td>4</td>\n",
       "      <td>-999999.0</td>\n",
       "      <td>-999999.0</td>\n",
       "      <td>0.166667</td>\n",
       "    </tr>\n",
       "    <tr>\n",
       "      <th>4</th>\n",
       "      <td>63560</td>\n",
       "      <td>201902</td>\n",
       "      <td>126.497121</td>\n",
       "      <td>33.247225</td>\n",
       "      <td>1</td>\n",
       "      <td>49</td>\n",
       "      <td>0.0</td>\n",
       "      <td>0.250000</td>\n",
       "      <td>0.000000</td>\n",
       "      <td>0.000000</td>\n",
       "      <td>...</td>\n",
       "      <td>248232725</td>\n",
       "      <td>35712501</td>\n",
       "      <td>5568751</td>\n",
       "      <td>0</td>\n",
       "      <td>0</td>\n",
       "      <td>626810674</td>\n",
       "      <td>5</td>\n",
       "      <td>-999999.0</td>\n",
       "      <td>-999999.0</td>\n",
       "      <td>0.000000</td>\n",
       "    </tr>\n",
       "  </tbody>\n",
       "</table>\n",
       "<p>5 rows × 27 columns</p>\n",
       "</div>"
      ],
      "text/plain": [
       "   zip_cd  year_month      x_axis     y_axis  sex  age  job_majorc  \\\n",
       "0   63299      201902  126.565889  33.513210    1   54         0.0   \n",
       "1   63560      201902  126.497121  33.247225    1   59         0.0   \n",
       "2   63560      201902  126.497121  33.247225    2   49         0.0   \n",
       "3   63560      201902  126.497121  33.247225    1   54         0.0   \n",
       "4   63560      201902  126.497121  33.247225    1   49         0.0   \n",
       "\n",
       "   job_smallc  job_public  job_profession  ...   avg_debt  avg_debt_credit  \\\n",
       "0    0.166667    0.000000        0.000000  ...   24285196         11419148   \n",
       "1    0.125000    0.000000        0.000000  ...  108571077         25896955   \n",
       "2    0.250000    0.000000        0.000000  ...   26424335         12015311   \n",
       "3    0.181818    0.090909        0.090909  ...  647716901         39952556   \n",
       "4    0.250000    0.000000        0.000000  ...  248232725         35712501   \n",
       "\n",
       "   avg_debt_noneb  avg_debt_mortgage  avg_debt_deposit  avg_debt_collateral  \\\n",
       "0         8863595           55550000                 0             55550000   \n",
       "1        13317443                  0         200000000             74421721   \n",
       "2        12015311           40833359                 0             40833359   \n",
       "3        21558153           36697792                 0            706300496   \n",
       "4         5568751                  0                 0            626810674   \n",
       "\n",
       "   avg_credit_rat  medium_resid_rat  large_resid_rat  vehicle_own_rat  \n",
       "0               5         -999999.0        -999999.0         0.000000  \n",
       "1               4         -999999.0        -999999.0         0.000000  \n",
       "2               2         -999999.0        -999999.0         0.000000  \n",
       "3               4         -999999.0        -999999.0         0.166667  \n",
       "4               5         -999999.0        -999999.0         0.000000  \n",
       "\n",
       "[5 rows x 27 columns]"
      ]
     },
     "execution_count": 35,
     "metadata": {},
     "output_type": "execute_result"
    }
   ],
   "source": [
    "# jeju_financial_life_data 데이터 상위 5줄 출력\n",
    "jeju_life.head()"
   ]
  },
  {
   "cell_type": "code",
   "execution_count": 36,
   "metadata": {},
   "outputs": [
    {
     "name": "stdout",
     "output_type": "stream",
     "text": [
      "<class 'pandas.core.frame.DataFrame'>\n",
      "RangeIndex: 10422 entries, 0 to 10421\n",
      "Data columns (total 27 columns):\n",
      "zip_cd                 10422 non-null int64\n",
      "year_month             10422 non-null int64\n",
      "x_axis                 10422 non-null float64\n",
      "y_axis                 10422 non-null float64\n",
      "sex                    10422 non-null int64\n",
      "age                    10422 non-null int64\n",
      "job_majorc             10422 non-null float64\n",
      "job_smallc             10422 non-null float64\n",
      "job_public             10422 non-null float64\n",
      "job_profession         10422 non-null float64\n",
      "job_self               10422 non-null float64\n",
      "job_none               10422 non-null float64\n",
      "job_other              10422 non-null float64\n",
      "avg_income             10422 non-null int64\n",
      "med_income             10422 non-null int64\n",
      "avg_spend              10422 non-null int64\n",
      "avg_foreign_spend      10422 non-null int64\n",
      "avg_debt               10422 non-null int64\n",
      "avg_debt_credit        10422 non-null int64\n",
      "avg_debt_noneb         10422 non-null int64\n",
      "avg_debt_mortgage      10422 non-null int64\n",
      "avg_debt_deposit       10422 non-null int64\n",
      "avg_debt_collateral    10422 non-null int64\n",
      "avg_credit_rat         10422 non-null int64\n",
      "medium_resid_rat       10422 non-null float64\n",
      "large_resid_rat        10422 non-null float64\n",
      "vehicle_own_rat        10422 non-null float64\n",
      "dtypes: float64(12), int64(15)\n",
      "memory usage: 2.1 MB\n"
     ]
    }
   ],
   "source": [
    "# jeju_financial_life_data 데이터 정보 출력\n",
    "jeju_life.info()"
   ]
  },
  {
   "cell_type": "code",
   "execution_count": 37,
   "metadata": {},
   "outputs": [
    {
     "data": {
      "text/html": [
       "<div>\n",
       "<style scoped>\n",
       "    .dataframe tbody tr th:only-of-type {\n",
       "        vertical-align: middle;\n",
       "    }\n",
       "\n",
       "    .dataframe tbody tr th {\n",
       "        vertical-align: top;\n",
       "    }\n",
       "\n",
       "    .dataframe thead th {\n",
       "        text-align: right;\n",
       "    }\n",
       "</style>\n",
       "<table border=\"1\" class=\"dataframe\">\n",
       "  <thead>\n",
       "    <tr style=\"text-align: right;\">\n",
       "      <th></th>\n",
       "      <th>날짜</th>\n",
       "      <th>현재일기</th>\n",
       "      <th>현재기온</th>\n",
       "      <th>체감온도</th>\n",
       "      <th>일강수</th>\n",
       "    </tr>\n",
       "  </thead>\n",
       "  <tbody>\n",
       "    <tr>\n",
       "      <th>0</th>\n",
       "      <td>2019-09-01</td>\n",
       "      <td>흐림</td>\n",
       "      <td>26.2</td>\n",
       "      <td>75.0</td>\n",
       "      <td>0</td>\n",
       "    </tr>\n",
       "    <tr>\n",
       "      <th>1</th>\n",
       "      <td>2019-09-02</td>\n",
       "      <td>비 끝남</td>\n",
       "      <td>22.5</td>\n",
       "      <td>72.0</td>\n",
       "      <td>25.7</td>\n",
       "    </tr>\n",
       "    <tr>\n",
       "      <th>2</th>\n",
       "      <td>2019-09-03</td>\n",
       "      <td>흐림</td>\n",
       "      <td>25.4</td>\n",
       "      <td>77.0</td>\n",
       "      <td>12.1</td>\n",
       "    </tr>\n",
       "    <tr>\n",
       "      <th>3</th>\n",
       "      <td>2019-09-04</td>\n",
       "      <td>약한비단속</td>\n",
       "      <td>24.2</td>\n",
       "      <td>75.0</td>\n",
       "      <td>34.3</td>\n",
       "    </tr>\n",
       "    <tr>\n",
       "      <th>4</th>\n",
       "      <td>2019-09-05</td>\n",
       "      <td>구름많음</td>\n",
       "      <td>27.6</td>\n",
       "      <td>79.0</td>\n",
       "      <td>0.1</td>\n",
       "    </tr>\n",
       "  </tbody>\n",
       "</table>\n",
       "</div>"
      ],
      "text/plain": [
       "           날짜   현재일기  현재기온  체감온도   일강수\n",
       "0  2019-09-01     흐림  26.2  75.0     0\n",
       "1  2019-09-02   비 끝남  22.5  72.0  25.7\n",
       "2  2019-09-03     흐림  25.4  77.0  12.1\n",
       "3  2019-09-04  약한비단속  24.2  75.0  34.3\n",
       "4  2019-09-05   구름많음  27.6  79.0   0.1"
      ]
     },
     "execution_count": 37,
     "metadata": {},
     "output_type": "execute_result"
    }
   ],
   "source": [
    "# weather 데이터 상위 5줄 출력\n",
    "weather.head()"
   ]
  },
  {
   "cell_type": "code",
   "execution_count": 38,
   "metadata": {},
   "outputs": [
    {
     "name": "stdout",
     "output_type": "stream",
     "text": [
      "<class 'pandas.core.frame.DataFrame'>\n",
      "RangeIndex: 46 entries, 0 to 45\n",
      "Data columns (total 5 columns):\n",
      "날짜      46 non-null object\n",
      "현재일기    46 non-null object\n",
      "현재기온    46 non-null float64\n",
      "체감온도    46 non-null float64\n",
      "일강수     46 non-null object\n",
      "dtypes: float64(2), object(3)\n",
      "memory usage: 1.9+ KB\n"
     ]
    }
   ],
   "source": [
    "# weather 데이터 정보 출력\n",
    "weather.info()"
   ]
  },
  {
   "cell_type": "code",
   "execution_count": 39,
   "metadata": {},
   "outputs": [
    {
     "data": {
      "text/html": [
       "<div>\n",
       "<style scoped>\n",
       "    .dataframe tbody tr th:only-of-type {\n",
       "        vertical-align: middle;\n",
       "    }\n",
       "\n",
       "    .dataframe tbody tr th {\n",
       "        vertical-align: top;\n",
       "    }\n",
       "\n",
       "    .dataframe thead th {\n",
       "        text-align: right;\n",
       "    }\n",
       "</style>\n",
       "<table border=\"1\" class=\"dataframe\">\n",
       "  <thead>\n",
       "    <tr style=\"text-align: right;\">\n",
       "      <th></th>\n",
       "      <th>지점</th>\n",
       "      <th>일시</th>\n",
       "      <th>기온(°C)</th>\n",
       "      <th>강수량(mm)</th>\n",
       "    </tr>\n",
       "  </thead>\n",
       "  <tbody>\n",
       "    <tr>\n",
       "      <th>0</th>\n",
       "      <td>gosan</td>\n",
       "      <td>2019-09-01</td>\n",
       "      <td>23.916667</td>\n",
       "      <td>0.00</td>\n",
       "    </tr>\n",
       "    <tr>\n",
       "      <th>1</th>\n",
       "      <td>gosan</td>\n",
       "      <td>2019-09-02</td>\n",
       "      <td>23.700000</td>\n",
       "      <td>12.10</td>\n",
       "    </tr>\n",
       "    <tr>\n",
       "      <th>2</th>\n",
       "      <td>gosan</td>\n",
       "      <td>2019-09-03</td>\n",
       "      <td>23.550000</td>\n",
       "      <td>1.90</td>\n",
       "    </tr>\n",
       "    <tr>\n",
       "      <th>3</th>\n",
       "      <td>gosan</td>\n",
       "      <td>2019-09-04</td>\n",
       "      <td>23.533333</td>\n",
       "      <td>12.84</td>\n",
       "    </tr>\n",
       "    <tr>\n",
       "      <th>4</th>\n",
       "      <td>gosan</td>\n",
       "      <td>2019-09-05</td>\n",
       "      <td>26.033333</td>\n",
       "      <td>0.00</td>\n",
       "    </tr>\n",
       "  </tbody>\n",
       "</table>\n",
       "</div>"
      ],
      "text/plain": [
       "      지점          일시     기온(°C)  강수량(mm)\n",
       "0  gosan  2019-09-01  23.916667     0.00\n",
       "1  gosan  2019-09-02  23.700000    12.10\n",
       "2  gosan  2019-09-03  23.550000     1.90\n",
       "3  gosan  2019-09-04  23.533333    12.84\n",
       "4  gosan  2019-09-05  26.033333     0.00"
      ]
     },
     "execution_count": 39,
     "metadata": {},
     "output_type": "execute_result"
    }
   ],
   "source": [
    "# rain 데이터 상위 5줄 출력\n",
    "rain.head()"
   ]
  },
  {
   "cell_type": "code",
   "execution_count": 40,
   "metadata": {},
   "outputs": [
    {
     "name": "stdout",
     "output_type": "stream",
     "text": [
      "<class 'pandas.core.frame.DataFrame'>\n",
      "RangeIndex: 184 entries, 0 to 183\n",
      "Data columns (total 4 columns):\n",
      "지점         184 non-null object\n",
      "일시         184 non-null object\n",
      "기온(°C)     184 non-null float64\n",
      "강수량(mm)    66 non-null float64\n",
      "dtypes: float64(2), object(2)\n",
      "memory usage: 5.9+ KB\n"
     ]
    }
   ],
   "source": [
    "# rain 데이터 정보 출력\n",
    "rain.info()"
   ]
  },
  {
   "cell_type": "markdown",
   "metadata": {},
   "source": [
    "### 3.2.2. 데이터 시각화를 통한 탐색적 데이터 분석"
   ]
  },
  {
   "cell_type": "code",
   "execution_count": 41,
   "metadata": {},
   "outputs": [],
   "source": [
    "# 시각화에 필요한 라이브러리 임포트\n",
    "import matplotlib\n",
    "import matplotlib.pyplot as plt\n",
    "import seaborn as sns\n",
    "# 내부에 결과를 출력하도록 설정\n",
    "%matplotlib inline\n",
    "\n",
    "# 시각화 한글 폰트 설정\n",
    "# 윈도우 사용자\n",
    "plt.rc('font', family='Malgun Gothic')\n",
    "# Mac 사용자\n",
    "#plt.rc('font', family='AppleGothic')\n",
    "\n",
    "plt.rc('axes', unicode_minus=False) # 마이너스 기호가 출력되도록 설정한다.\n",
    "\n",
    "import warnings\n",
    "warnings.filterwarnings('ignore') # 분석에 문제가 없는 경고 메시지는 숨긴다."
   ]
  },
  {
   "cell_type": "code",
   "execution_count": 42,
   "metadata": {},
   "outputs": [],
   "source": [
    "# 학습 데이터 복사본 생성\n",
    "traindata = train.copy()"
   ]
  },
  {
   "cell_type": "markdown",
   "metadata": {},
   "source": [
    "#### 3.2.2.1. 타깃 변수 분포 확인하기"
   ]
  },
  {
   "cell_type": "code",
   "execution_count": 43,
   "metadata": {},
   "outputs": [
    {
     "data": {
      "image/png": "[encoded data removed]",
      "text/plain": [
       "<Figure size 432x288 with 1 Axes>"
      ]
     },
     "metadata": {
      "needs_background": "light"
     },
     "output_type": "display_data"
    }
   ],
   "source": [
    "# 타깃 변수(퇴근 시간 승차 인원) 분포 시각화\n",
    "sns.distplot(traindata['18~20_ride'], kde = False, bins = 50)\n",
    "plt.axis([0, 50, 0, 450000]) # [x 축 최솟값, x 축 최댓값, y 축 최솟값, y 축 최댓값]\n",
    "plt.title(\"퇴근 시간 승차 인원 히스토그램\")\n",
    "plt.show()"
   ]
  },
  {
   "cell_type": "code",
   "execution_count": 44,
   "metadata": {},
   "outputs": [
    {
     "data": {
      "text/plain": [
       "18~20_ride\n",
       "0.0    296528\n",
       "1.0     44268\n",
       "2.0     23752\n",
       "3.0     13560\n",
       "4.0      8630\n",
       "5.0      5911\n",
       "dtype: int64"
      ]
     },
     "execution_count": 44,
     "metadata": {},
     "output_type": "execute_result"
    }
   ],
   "source": [
    "# 타깃 변수(퇴근 시간 승차 인원) 분포 확인\n",
    "traindata.groupby('18~20_ride').size().head(6)"
   ]
  },
  {
   "cell_type": "code",
   "execution_count": 45,
   "metadata": {},
   "outputs": [],
   "source": [
    "# 요일 변수 생성\n",
    "traindata['date'] = pd.to_datetime(traindata['date'])\n",
    "traindata['weekday'] = traindata['date'].dt.strftime('%a')"
   ]
  },
  {
   "cell_type": "code",
   "execution_count": 46,
   "metadata": {},
   "outputs": [
    {
     "data": {
      "image/png": "[encoded data removed]",
      "text/plain": [
       "<Figure size 432x288 with 1 Axes>"
      ]
     },
     "metadata": {
      "needs_background": "light"
     },
     "output_type": "display_data"
    }
   ],
   "source": [
    "# 요일별 퇴근 시간 평균 탑승객 수 시각화\n",
    "sns.barplot(x=\"weekday\", y=\"18~20_ride\", data=traindata)\n",
    "plt.title(\"요일에 따른 퇴근 시간 평균 탑승객 수\")\n",
    "plt.show()"
   ]
  },
  {
   "cell_type": "code",
   "execution_count": 47,
   "metadata": {},
   "outputs": [
    {
     "data": {
      "image/png": "[encoded data removed]",
      "text/plain": [
       "<Figure size 432x288 with 1 Axes>"
      ]
     },
     "metadata": {
      "needs_background": "light"
     },
     "output_type": "display_data"
    }
   ],
   "source": [
    "# 버스 종류별 퇴근 시간 평균 탑승객 수 시각화\n",
    "sns.barplot(x=\"in_out\", y=\"18~20_ride\", data=traindata)\n",
    "plt.title(\"버스 종류에 따른 평균 탑승객 수\")\n",
    "plt.show()"
   ]
  },
  {
   "cell_type": "code",
   "execution_count": 48,
   "metadata": {},
   "outputs": [
    {
     "data": {
      "text/html": [
       "<div>\n",
       "<style scoped>\n",
       "    .dataframe tbody tr th:only-of-type {\n",
       "        vertical-align: middle;\n",
       "    }\n",
       "\n",
       "    .dataframe tbody tr th {\n",
       "        vertical-align: top;\n",
       "    }\n",
       "\n",
       "    .dataframe thead th {\n",
       "        text-align: right;\n",
       "    }\n",
       "</style>\n",
       "<table border=\"1\" class=\"dataframe\">\n",
       "  <thead>\n",
       "    <tr style=\"text-align: right;\">\n",
       "      <th></th>\n",
       "      <th>date</th>\n",
       "      <th>18~20_ride</th>\n",
       "      <th>8~10_ride</th>\n",
       "    </tr>\n",
       "  </thead>\n",
       "  <tbody>\n",
       "    <tr>\n",
       "      <th>0</th>\n",
       "      <td>2019-09-01</td>\n",
       "      <td>11537.0</td>\n",
       "      <td>11957.0</td>\n",
       "    </tr>\n",
       "    <tr>\n",
       "      <th>1</th>\n",
       "      <td>2019-09-02</td>\n",
       "      <td>20561.0</td>\n",
       "      <td>21844.0</td>\n",
       "    </tr>\n",
       "    <tr>\n",
       "      <th>2</th>\n",
       "      <td>2019-09-03</td>\n",
       "      <td>19743.0</td>\n",
       "      <td>25756.0</td>\n",
       "    </tr>\n",
       "    <tr>\n",
       "      <th>3</th>\n",
       "      <td>2019-09-04</td>\n",
       "      <td>20133.0</td>\n",
       "      <td>21472.0</td>\n",
       "    </tr>\n",
       "    <tr>\n",
       "      <th>4</th>\n",
       "      <td>2019-09-05</td>\n",
       "      <td>20392.0</td>\n",
       "      <td>26331.0</td>\n",
       "    </tr>\n",
       "  </tbody>\n",
       "</table>\n",
       "</div>"
      ],
      "text/plain": [
       "        date  18~20_ride  8~10_ride\n",
       "0 2019-09-01     11537.0    11957.0\n",
       "1 2019-09-02     20561.0    21844.0\n",
       "2 2019-09-03     19743.0    25756.0\n",
       "3 2019-09-04     20133.0    21472.0\n",
       "4 2019-09-05     20392.0    26331.0"
      ]
     },
     "execution_count": 48,
     "metadata": {},
     "output_type": "execute_result"
    }
   ],
   "source": [
    "# 일별 출근 시간과 퇴근 시간의 합 데이터 생성\n",
    "traindata['8~10_ride'] = traindata['8~9_ride'] + traindata['9~10_ride']\n",
    "eda_data = traindata.groupby('date')[['18~20_ride','8~10_ride']].agg('sum').reset_index()\n",
    "eda_data.head()"
   ]
  },
  {
   "cell_type": "code",
   "execution_count": 49,
   "metadata": {},
   "outputs": [
    {
     "data": {
      "image/png": "[encoded data removed]",
      "text/plain": [
       "<Figure size 432x288 with 1 Axes>"
      ]
     },
     "metadata": {
      "needs_background": "light"
     },
     "output_type": "display_data"
    }
   ],
   "source": [
    "# 일별 출/퇴근 시간 탑승객 수 시각화\n",
    "plt.plot(\"date\", \"18~20_ride\", \"g-\", label = \"퇴근 시간 탑승객 수\", data=eda_data)\n",
    "plt.plot(\"date\", \"8~10_ride\", \"b-\", label = \"출근 시간 탑승객 수\", data=eda_data)\n",
    "plt.gcf().autofmt_xdate() # x축의 라벨이 서로 겹치지 않도록 설정\n",
    "plt.legend(loc=0) # 그래프 상에서 최적의 위치에 범례 표시\n",
    "plt.title(\"일별 출/퇴근 시간 탑승객 수\")\n",
    "plt.show()"
   ]
  },
  {
   "cell_type": "markdown",
   "metadata": {},
   "source": [
    "## 3.3 데이터 전처리"
   ]
  },
  {
   "cell_type": "code",
   "execution_count": 50,
   "metadata": {},
   "outputs": [],
   "source": [
    "# 학습 데이터와 테스트 데이터를 구분하기 위한 변수 생성\n",
    "train['cue'] = 0\n",
    "test['cue'] = 1\n",
    "\n",
    "# 학습 데이터와 테스트 데이터 통합\n",
    "df = pd.concat([train, test], axis=0)"
   ]
  },
  {
   "cell_type": "markdown",
   "metadata": {},
   "source": [
    "### 3.3.1 내부 데이터를 통한 변수 생성"
   ]
  },
  {
   "cell_type": "markdown",
   "metadata": {},
   "source": [
    "#### 3.3.1.1 탐색적 데이터 분석을 통한 변수"
   ]
  },
  {
   "cell_type": "markdown",
   "metadata": {},
   "source": [
    "* weekday"
   ]
  },
  {
   "cell_type": "code",
   "execution_count": 51,
   "metadata": {},
   "outputs": [],
   "source": [
    "# datetime 변수형으로 변환\n",
    "df['date'] = pd.to_datetime(df['date'])\n",
    "# 요일 추출 (0-월요일~6-일요일)\n",
    "df['weekday'] = df['date'].dt.weekday"
   ]
  },
  {
   "cell_type": "markdown",
   "metadata": {},
   "source": [
    "* 요일별 평균 탑승객 수"
   ]
  },
  {
   "cell_type": "code",
   "execution_count": 52,
   "metadata": {},
   "outputs": [],
   "source": [
    "# 요일별 평균 탑승 승객수를 구하는 함수\n",
    "def week_mean() :\n",
    "    # 전체 데이터에서 train 데이터에 해당하는 행 추출\n",
    "    train_data = df.query('cue==\"0\"').reset_index(drop=True)\n",
    "\n",
    "    # 요일별 평균 탑승 승객수 구하기\n",
    "    train_data.groupby('weekday')['18~20_ride'].mean()\n",
    "    \n",
    "    # 일괄적으로 1의 값을 가지는 'weekdaymean'변수 생성\n",
    "    df['weekdaymean'] = 1\n",
    "\n",
    "    # 각 요일에 해당하는 인덱스 추출\n",
    "    index0 = df.query('weekday==0').index\n",
    "    index1 = df.query('weekday==1').index\n",
    "    index2 = df.query('weekday==2').index\n",
    "    index3 = df.query('weekday==3').index\n",
    "    index4 = df.query('weekday==4').index\n",
    "    index5 = df.query('weekday==5').index\n",
    "    index6 = df.query('weekday==6').index\n",
    "\n",
    "    # 인덱스를 활용하여 'weekdaymean'의 값을 각 요일에 맞는 평균 탑승 승객수로 변경 \n",
    "    df.iloc[index0,-1] = train_data.query('weekday==0')['18~20_ride'].mean()\n",
    "    df.iloc[index1,-1] = train_data.query('weekday==1')['18~20_ride'].mean()\n",
    "    df.iloc[index2,-1] = train_data.query('weekday==2')['18~20_ride'].mean()\n",
    "    df.iloc[index3,-1] = train_data.query('weekday==3')['18~20_ride'].mean()\n",
    "    df.iloc[index4,-1] = train_data.query('weekday==4')['18~20_ride'].mean()\n",
    "    df.iloc[index5,-1] = train_data.query('weekday==5')['18~20_ride'].mean()\n",
    "    df.iloc[index6,-1] = train_data.query('weekday==6')['18~20_ride'].mean()\n",
    "    \n",
    "    return df\n",
    "\n",
    "# 기존의 데이터프레임에 함수 적용\n",
    "df = week_mean()"
   ]
  },
  {
   "cell_type": "markdown",
   "metadata": {},
   "source": [
    "* 버스 종류별 평균 탑승객 수"
   ]
  },
  {
   "cell_type": "code",
   "execution_count": 53,
   "metadata": {},
   "outputs": [],
   "source": [
    "# 버스 종류별 평균 탑승 승객수를 구하는 함수\n",
    "def inout_mean() :\n",
    "    # 전체 데이터에서 train 데이터에 해당하는 행 추출\n",
    "    train_data = df.query('cue==\"0\"').reset_index(drop=True)\n",
    "    \n",
    "    # 일괄적으로 1의 값을 가지는 in_out_mean 변수 생성\n",
    "    df['in_out_mean'] = 1\n",
    "\n",
    "    # 버스 종류별 인덱스 추출\n",
    "    in_index = df.query('in_out == \"시내\"').index # 시내버스\n",
    "    out_index = df.query('in_out == \"시외\"').index # 시외버스\n",
    "\n",
    "    # 인덱스를 활용하여 in_out_mean의 값을 각 버스 종류에 맞는 평균 탑승 승객수로 변경\n",
    "    df.iloc[in_index,-1] = train_data.query('in_out == \"시내\"')['18~20_ride'].mean()\n",
    "    df.iloc[out_index,-1] = train_data.query('in_out == \"시외\"')['18~20_ride'].mean()\n",
    "    \n",
    "    return df\n",
    "\n",
    "# 기존의 데이터프레임에 함수 적용\n",
    "df = inout_mean()"
   ]
  },
  {
   "cell_type": "markdown",
   "metadata": {},
   "source": [
    "* 일별 오전 시간대의 총 탑승객 수"
   ]
  },
  {
   "cell_type": "code",
   "execution_count": 54,
   "metadata": {},
   "outputs": [],
   "source": [
    "# 날짜별 오전시간에 탑승한 총 승객수\n",
    "f=df.groupby('date')['6~7_ride','7~8_ride','8~9_ride','9~10_ride','10~11_ride'].sum().reset_index()\n",
    "\n",
    "# 변수명 바꾸기\n",
    "f.columns=['date','6~7_ride_sum','7~8_ride_sum','8~9_ride_sum','9~10_ride_sum','10~11_ride_sum']\n",
    "\n",
    "# 기존의 데이터프레임에 새로운 변수를 병합\n",
    "df = pd.merge(df, f, how='left', on='date')"
   ]
  },
  {
   "cell_type": "markdown",
   "metadata": {},
   "source": [
    "#### 3.3.1.2 도메인 조사를 통한 변수"
   ]
  },
  {
   "cell_type": "markdown",
   "metadata": {},
   "source": [
    "* 배차 간격"
   ]
  },
  {
   "cell_type": "code",
   "execution_count": 55,
   "metadata": {},
   "outputs": [],
   "source": [
    "# 탑승날짜를 datetime형으로 변환\n",
    "bts['geton_time2'] = pd.to_datetime(bts['geton_time'])\n",
    "\n",
    "# 탑승날짜, 탑승 정류장 코드, 탑승 노선 번호 기준으로 정렬\n",
    "f = bts.sort_values(by=['geton_date','geton_station_code','bus_route_id','geton_time2'],\\\n",
    "ascending=True).reset_index()"
   ]
  },
  {
   "cell_type": "code",
   "execution_count": 56,
   "metadata": {},
   "outputs": [],
   "source": [
    "# 시차를 넣기 위한 빈 리스트 생성\n",
    "interval = []\n",
    "for i in range(0,len(f)-1):\n",
    "    # 탑승 날짜, 탑승 정류장 코드, 탑승 노선 번호가 같다면\n",
    "    if ((f.iloc[i].geton_date == f.iloc[i+1].geton_date) & \n",
    "        (f.iloc[i].geton_station_code == f.iloc[i+1].geton_station_code) & \n",
    "        (f.iloc[i].bus_route_id == f.iloc[i+1].bus_route_id)):\n",
    "        # 탑승 날짜의 차를 interval리스트에 넣기\n",
    "        interval.append(f.iloc[i+1].geton_time2 - f.iloc[i].geton_time2)\n",
    "    else:\n",
    "        # 같지 않다면 0을 interval 리스트에 넣기\n",
    "        interval.append(0)\n",
    "interval.insert(0, '0')"
   ]
  },
  {
   "cell_type": "code",
   "execution_count": 57,
   "metadata": {},
   "outputs": [],
   "source": [
    "f['interval'] = interval # interval리스트를 'interval'변수로 생성 \n",
    "#’interval’변수의 값을 00:00:00의 형태로 변환\n",
    "f['interval'] = f['interval'].astype(str).str[7:].replace('','00:00:00')\n",
    "f['bus_route_id'] = f['bus_route_id'].astype(object)"
   ]
  },
  {
   "cell_type": "code",
   "execution_count": 58,
   "metadata": {},
   "outputs": [],
   "source": [
    "# 분으로 변환하는 함수\n",
    "def get_min(time_str):\n",
    "    h, m, s = time_str.split(':')\n",
    "    return (int(h) * 3600 + int(m) * 60 + int(s)) / 60\n",
    "#  'interval' 함수의 모든 값에 대해 함수 적용하여 나온 값을 time리스트에 넣기\n",
    "time = []\n",
    "for i in f['interval'] :\n",
    "    time.append(get_min(i))\n",
    "\n",
    "f['time'] = time # time리스트를 'time' 변수로 생성\n",
    "f['time'] = (f['time'] / 60).astype(int) # 초 단위인 'time' 변수를 분단위로 변형\n",
    "f = f[f['time'] > 3] # 간격이 3분보다 작은 것 제외 \n",
    "f = f[f['time'] < 180] # 간격이 3시간보다 큰 것 제외"
   ]
  },
  {
   "cell_type": "code",
   "execution_count": 59,
   "metadata": {},
   "outputs": [],
   "source": [
    "# 버스 노선별 버스 간격의 평균 ‘bus_interval’변수 생성\n",
    "data = f.groupby('bus_route_id')['time'].agg([('bus_interval', 'mean')]).reset_index()\n",
    "data['bus_interval'] = data['bus_interval'].astype(int)\n",
    "\n",
    "# 변수 생성에 많은 시간이 소요되므로 csv 파일로 저장\n",
    "data.to_csv('bus_interval.csv', index = False)"
   ]
  },
  {
   "cell_type": "code",
   "execution_count": 60,
   "metadata": {},
   "outputs": [],
   "source": [
    "# csv 파일이 성공적으로 저장됐다면 다음 과정부터 진행\n",
    "import numpy as np\n",
    "df['bus_route_id'] = df['bus_route_id'].astype(np.int64)\n",
    "bus_interval = pd.read_csv(\"bus_interval.csv\")\n",
    "\n",
    "# 기존의 데이터프레임에 새로운 변수를 병합\n",
    "df = pd.merge(df, bus_interval, how = 'left', on = 'bus_route_id')\n",
    "df['bus_interval'] = df['bus_interval'].fillna(9999) # 병합 중 생기는 NA값 처리"
   ]
  },
  {
   "cell_type": "markdown",
   "metadata": {},
   "source": [
    "* 수요가 많을 것으로 예상되는 정류장"
   ]
  },
  {
   "cell_type": "code",
   "execution_count": 61,
   "metadata": {},
   "outputs": [],
   "source": [
    "# school 변수 생성\n",
    "# 정류장명에 '고등학교'가 포함되어 있는 행 뽑기 \n",
    "highschool_station = df[df['station_name'].str.contains('고등학교')]\n",
    "# 고등학교'가 포함되어 있는 정류장명을 중복없이 리스트에 저장\n",
    "highschool = list(highschool_station['station_name'].unique())\n",
    "# 정류장명에 '대학교'가 포함되어 있는 행 뽑기\n",
    "university_station = df[df['station_name'].str.contains('대학교')]\n",
    "# '대학교'가 포함되어 있는 정류장명을 중복없이 리스트에 저장\n",
    "university = list(university_station['station_name'].unique())\n",
    "\n",
    "# '고등학교'와 '대학교' 근처 정류장 구분 함수\n",
    "def schoolstation(x):\n",
    "    # highschool 리스트에 정류장명이 포함되어 있다면 1을 반환\n",
    "    if x in highschool:\n",
    "        return 1\n",
    "    # university 리스트에 정류장명이 포함되어 있다면 1을 반환\n",
    "    elif x in university:\n",
    "        return 1\n",
    "    # 둘 다 포함되지 않는 정류장명이라면 0을 반환\n",
    "    else:\n",
    "        return 0\n",
    "\n",
    "# 모든 정류장명에 대해 적용\n",
    "df['school'] = df['station_name'].apply(schoolstation) \n",
    "\n",
    "\n",
    "# school변수와 동일한 방법으로 transfer 변수 생성\n",
    "transfer_station = df[df['station_name'].str.contains('환승')]\n",
    "transfers = list(transfer_station['station_name'].unique())\n",
    "\n",
    "airport_station = df[df['station_name'].str.contains('공항')]\n",
    "airport = list(airport_station['station_name'].unique())\n",
    "\n",
    "terminal_station = df[df['station_name'].str.contains('터미널')]\n",
    "terminal = list(terminal_station['station_name'].unique())\n",
    "\n",
    "# 항상 수요가 많은 정류장 구분 함수\n",
    "def transfer_station(x):\n",
    "    if x in transfers:\n",
    "        return 1\n",
    "    elif x in airport:\n",
    "        return 1\n",
    "    elif x in terminal:\n",
    "        return 1\n",
    "    else:\n",
    "        return 0\n",
    "\n",
    "df['transfer'] = df['station_name'].apply(transfer_station)"
   ]
  },
  {
   "cell_type": "markdown",
   "metadata": {},
   "source": [
    "* 연휴"
   ]
  },
  {
   "cell_type": "code",
   "execution_count": 62,
   "metadata": {},
   "outputs": [],
   "source": [
    "# 날짜에서 연휴 구분 함수\n",
    "def holiday(x):\n",
    "    # 공휴일 리스트에 들어 있다면 1을 반환\n",
    "    if x in ['2019-09-12','2019-09-13','2019-09-14','2019-10-03','2019-10-09']:\n",
    "        return 1\n",
    "    else:\n",
    "        # 공휴일이 아니라면 0을 반환\n",
    "        return 0\n",
    "# 모든 날짜에 적용\n",
    "df['holiday'] = df['date'].apply(holiday)"
   ]
  },
  {
   "cell_type": "markdown",
   "metadata": {},
   "source": [
    "#### 3.3.1.3. 시간대를 활용한 변수"
   ]
  },
  {
   "cell_type": "markdown",
   "metadata": {},
   "source": [
    "* 승하차 시간대 통합 변수(t~t+2)"
   ]
  },
  {
   "cell_type": "code",
   "execution_count": 63,
   "metadata": {},
   "outputs": [],
   "source": [
    "# 오전시간대에 2시간동안 승차한 인원수의 합계\n",
    "df['68a'] = df['6~7_ride'] + df['7~8_ride'] \n",
    "df['810a'] = df['8~9_ride'] + df['9~10_ride']\n",
    "df['1012a'] = df['10~11_ride'] + df['11~12_ride']\n",
    "\n",
    "# 오전시간대에 2시간동안 하차한 인원수의 합계\n",
    "df['68b'] = df['6~7_takeoff'] + df['7~8_takeoff'] \n",
    "df['810b'] = df['8~9_takeoff'] + df['9~10_takeoff']\n",
    "df['1012b'] = df['10~11_takeoff'] + df['11~12_takeoff']"
   ]
  },
  {
   "cell_type": "markdown",
   "metadata": {},
   "source": [
    "* 오전 시간의 승객 수"
   ]
  },
  {
   "cell_type": "code",
   "execution_count": 64,
   "metadata": {},
   "outputs": [],
   "source": [
    "# 오전 시간(6시~12시)에 승차한 승객 수의 합계\n",
    "df['ride_sum'] = df[['6~7_ride', '7~8_ride', '8~9_ride', '9~10_ride', \n",
    "                     '10~11_ride', '11~12_ride']].sum(axis=1)\n",
    "\n",
    "# 오전 시간(6시~12시)에 하차한 승객 수의 합계\n",
    "df['takeoff_sum'] = df[['6~7_takeoff', '7~8_takeoff', '8~9_takeoff', \n",
    "'9~10_takeoff', '10~11_takeoff', '11~12_takeoff']].sum(axis=1)"
   ]
  },
  {
   "cell_type": "code",
   "execution_count": 65,
   "metadata": {},
   "outputs": [],
   "source": [
    "# ‘bus_route_id’와 ‘station_code’를 결합해 route_station 생성\n",
    "df['route_station'] = df['bus_route_id'].astype(str) + ',' + df['station_code'].astype(str)\n",
    "\n",
    "# 버스노선별 오전시간의 총 승객수와 평균 승객수 구하기\n",
    "data = df.groupby(['route_station'])['1012a'].agg({'sum', 'mean'}).reset_index()\n",
    "\n",
    "# 변수명을 route_station, 1012a_sum, 1012a_mean 으로 바꾸기\n",
    "data.columns = ['route_station', '1012a_sum','1012a_mean']\n",
    "\n",
    "# 기존의 데이터프레임에 새로운 변수를 병합\n",
    "df = pd.merge(df, data, how='left', on='route_station')"
   ]
  },
  {
   "cell_type": "markdown",
   "metadata": {},
   "source": [
    "#### 3.3.1.4. bus_bts를 활용한 변수"
   ]
  },
  {
   "cell_type": "markdown",
   "metadata": {},
   "source": [
    "* 카테고리별 승객 수의 합과 비율"
   ]
  },
  {
   "cell_type": "code",
   "execution_count": 66,
   "metadata": {},
   "outputs": [],
   "source": [
    "# 카테고리별 승객 수의 합\n",
    "def category_people():\n",
    "    # df와 병합을 위해 bus_route_id의 타입을 str로 변환\n",
    "    bts['bus_route_id'] = bts['bus_route_id'].astype(str)\n",
    "\n",
    "    # bus_route_id와 user_category별 승객 수의 합\n",
    "    f = bts.groupby(['bus_route_id','user_category'])['user_count'].agg([('승객수', 'sum')]).reset_index()\n",
    "\n",
    "    # bus_route_id별 user_category 변수의 승객수의 피벗 테이블 형태로 변환\n",
    "    g = pd.pivot_table(f, values='승객수', index='bus_route_id', \n",
    "                       columns='user_category', fill_value=0).reset_index()\n",
    "    g.columns = ['bus_route_id', 'adult','kids','teen','elder','jang','jang2','ugong','ugong2']\n",
    "    g = g[['bus_route_id', 'adult','kids','teen','elder']]\n",
    "\n",
    "    # 기존의 데이터프레임에 새로운 변수를 병합\n",
    "    merge_data = pd.merge(df, g, how='left', on='bus_route_id')\n",
    "                 \n",
    "    return merge_data\n",
    "\n",
    "# bus_route_id의 타입을 str로 통일시켜준 뒤, 함수를 실행하여 변수 생성\n",
    "df['bus_route_id'] = df['bus_route_id'].astype(str)\n",
    "df = category_people()"
   ]
  },
  {
   "cell_type": "code",
   "execution_count": 67,
   "metadata": {},
   "outputs": [],
   "source": [
    "# 카테고리별 승객 비율\n",
    "def category_people_ratio() :\n",
    "\n",
    "    # bus_route_id별 user_category의 전체 합\n",
    "    f_all = bts.groupby('bus_route_id')['user_count'].agg([('전체', 'sum')]).reset_index()\n",
    "\n",
    "# bus_route_id와 user_category별 승객 수의 합\n",
    "    f_sum = bts.groupby(['bus_route_id','user_category'])['user_count'].agg([('승객수', 'sum')]).reset_index()\n",
    "    \n",
    "    # 승객 수의 합을 전체 합으로 나눠줘 비율을 구함\n",
    "    data = pd.merge(f_all, f_sum, on='bus_route_id')\n",
    "    data['비율'] = data['승객수'] / data['전체']\n",
    "\n",
    "# 피벗 테이블을 통해 bus_route_id별 user_category변수의 승객 비율 형태로 변환\n",
    "    data = pd.pivot_table(data, values='비율', index='bus_route_id', \n",
    "                          columns='user_category',fill_value=0).reset_index()\n",
    "    data.columns = ['bus_route_id', 'adult_prop','kids_prop','teen_prop',\n",
    "                    'elder_prop','jang_prop','jang2_prop','ugong_prop','ugong2_prop']\n",
    "    f = data[['bus_route_id', 'adult_prop','kids_prop','teen_prop','elder_prop']]\n",
    "\n",
    "    # 기존의 데이터프레임에 새로운 변수를 병합\n",
    "    merge_data = pd.merge(df, f, how='left', on='bus_route_id')\n",
    "\n",
    "    return merge_data\n",
    "\n",
    "# 함수를 실행하여 변수 생성\n",
    "df = category_people_ratio()"
   ]
  },
  {
   "cell_type": "code",
   "execution_count": 68,
   "metadata": {},
   "outputs": [],
   "source": [
    "# 연속형 변수의 결측치를 평균값으로 대체\n",
    "from sklearn.impute import SimpleImputer\n",
    "na_col = ['adult', 'kids', 'teen', 'elder', 'adult_prop', 'kids_prop', 'teen_prop', 'elder_prop']\n",
    "imputer = SimpleImputer(strategy=\"mean\")\n",
    "df[na_col] = pd.DataFrame(imputer.fit_transform(df[na_col]), columns = na_col) "
   ]
  },
  {
   "cell_type": "markdown",
   "metadata": {},
   "source": [
    "#### 3.3.1.5 좌표를 활용한 변수"
   ]
  },
  {
   "cell_type": "code",
   "execution_count": 69,
   "metadata": {},
   "outputs": [],
   "source": [
    "# geopy 패키지가 설치되어 있지 않다면 아래 명령으로 설치\n",
    "#!pip install geopy\n",
    "\n",
    "import geopy.distance\n",
    "\n",
    "coords_jejusi = (33.500770, 126.522761) # 제주시의 위도 경도\n",
    "coords_seoquiposi = (33.259429, 126.558217) # 서귀포시의 위도 경도\n",
    "\n",
    "# 제주시와의 거리\n",
    "df['dis_jejusi'] = [geopy.distance.vincenty((df['latitude'].iloc[i],df['longitude'].iloc[i]), \n",
    "                                            coords_jejusi).km for i in range(len(df))]\n",
    "# 서귀포시와의 거리\n",
    "df['dis_seoquiposi'] = [geopy.distance.vincenty((df['latitude'].iloc[i],df['longitude'].iloc[i]), \n",
    "                                            coords_seoquiposi).km for i in range(len(df))]"
   ]
  },
  {
   "cell_type": "markdown",
   "metadata": {},
   "source": [
    "* 탑승하는 승객의 수가 많은 버스정류장과의 거리"
   ]
  },
  {
   "cell_type": "code",
   "execution_count": 70,
   "metadata": {},
   "outputs": [],
   "source": [
    "coords_jejusicheong1 = (33.49892, 126.53035) # 제주시청(광양 방면)의 위도 경도\n",
    "coords_jejuairport = (33.50661, 126.49345) # 제주국제공항(구제주 방면)의 위도 경도\n",
    "coords_hallahosp = (33.48963, 126.486) # 한라병원의 위도 경도\n",
    "coords_rotary = (33.49143, 126.49678) # 제주도청신제주로터리의 위도 경도\n",
    "coords_jejucenterhigh = (33.48902, 126.5392) # 제주중앙여자고등학교의 위도 경도\n",
    "coords_jejumarket = (33.51315, 126.52706) # 동문시장의 위도 경도\n",
    "coords_jejusclass = (33.47626, 126.48141) # 제주고등학교/중흥S클래스의 위도 경도\n",
    "coords_centerroad = (33.51073, 126.5239) # 중앙로(국민은행)의 위도 경도\n",
    "coords_fiveway = (33.48667, 126.48092) # 노형오거리의 위도 경도\n",
    "coords_law = (33.49363, 126.53476) # 제주지방법원(광양 방면)의 위도 경도\n",
    "\n",
    "# 승차 인원 상위 10개의 버스 정류장 좌표와 각 정류장의 지구 표면에서 두 점 사이의 거리를 구함\n",
    "df['dis_jejusicheong1'] = [geopy.distance.vincenty((df['latitude'].iloc[i],df['longitude'].iloc[i]), \n",
    "                                                   coords_jejusicheong1).km for i in range(len(df))]\n",
    "df['dis_jejuairport'] = [geopy.distance.vincenty((df['latitude'].iloc[i],df['longitude'].iloc[i]), \n",
    "                                                 coords_jejuairport).km for i in range(len(df))]\n",
    "df['dis_hallahosp'] = [geopy.distance.vincenty((df['latitude'].iloc[i],df['longitude'].iloc[i]), \n",
    "                                               coords_hallahosp).km for i in range(len(df))]\n",
    "df['dis_rotary'] = [geopy.distance.vincenty((df['latitude'].iloc[i],df['longitude'].iloc[i]), \n",
    "                                            coords_rotary).km for i in range(len(df))]\n",
    "df['dis_jejucenterhigh'] = [geopy.distance.vincenty((df['latitude'].iloc[i],df['longitude'].iloc[i]), \n",
    "                                                    coords_jejucenterhigh).km for i in range(len(df))]\n",
    "df['dis_jejumarket'] = [geopy.distance.vincenty((df['latitude'].iloc[i],df['longitude'].iloc[i]), \n",
    "                                                coords_jejumarket).km for i in range(len(df))]\n",
    "df['dis_jejusclass'] = [geopy.distance.vincenty((df['latitude'].iloc[i],df['longitude'].iloc[i]), \n",
    "                                                coords_jejusclass).km for i in range(len(df))]\n",
    "df['dis_centerroad'] = [geopy.distance.vincenty((df['latitude'].iloc[i],df['longitude'].iloc[i]), \n",
    "                                                coords_centerroad).km for i in range(len(df))]\n",
    "df['dis_fiveway'] = [geopy.distance.vincenty((df['latitude'].iloc[i],df['longitude'].iloc[i]), \n",
    "                                             coords_fiveway).km for i in range(len(df))]\n",
    "df['dis_law'] = [geopy.distance.vincenty((df['latitude'].iloc[i],df['longitude'].iloc[i]), \n",
    "                                         coords_law).km for i in range(len(df))]"
   ]
  },
  {
   "cell_type": "markdown",
   "metadata": {},
   "source": [
    "### 3.2.2. 외부 데이터를 통한 변수 생성"
   ]
  },
  {
   "cell_type": "markdown",
   "metadata": {},
   "source": [
    "#### 3.3.2.1. 날씨를 활용한 변수"
   ]
  },
  {
   "cell_type": "markdown",
   "metadata": {},
   "source": [
    "* 버스정류장과 가장 가까운 관측소"
   ]
  },
  {
   "cell_type": "code",
   "execution_count": 71,
   "metadata": {},
   "outputs": [],
   "source": [
    "# 측정소별 위도, 경도\n",
    "jeju = (33.51411, 126.52969) # 제주 측정소 근처\n",
    "gosan = (33.29382, 126.16283) # 고산 측정소 근처\n",
    "seongsan = (33.38677, 126.8802) # 성산 측정소 근처\n",
    "po = (33.24616, 126.5653) # 서귀포 측정소 근처\n",
    "\n",
    "# 버스정류장과 제주 측정소와의 거리\n",
    "t1 = [geopy.distance.vincenty((i,j), jeju).km for i,j in list(zip(df['latitude'], df['longitude']))]\n",
    "df['dis_jeju'] = t1\n",
    "\n",
    "# 버스정류장과 고산 측정소와의 거리\n",
    "t2 = [geopy.distance.vincenty((i,j), gosan).km for i,j in list(zip(df['latitude'], df['longitude']))]\n",
    "df['dis_gosan']=t2\n",
    "\n",
    "# 버스정류장과 성산 측정소와의 거리\n",
    "t3 = [geopy.distance.vincenty((i,j), seongsan).km for i,j in list(zip(df['latitude'], df['longitude']))]\n",
    "df['dis_seongsan']=t3\n",
    "\n",
    "# 버스정류장과 서귀포 측정소와의 거리\n",
    "t4 = [geopy.distance.vincenty((i,j), po).km for i,j in list(zip(df['latitude'], df['longitude']))]\n",
    "df['dis_po']=t4"
   ]
  },
  {
   "cell_type": "code",
   "execution_count": 72,
   "metadata": {},
   "outputs": [],
   "source": [
    "total = pd.DataFrame(list(zip(t1,t2,t3,t4)),columns=['jeju', 'gosan', 'seongsan', 'po'])\n",
    "df['dist_name'] = total.apply(lambda x: x.argmin(), axis=1)"
   ]
  },
  {
   "cell_type": "markdown",
   "metadata": {},
   "source": [
    "* 지점별 기상정보 변수"
   ]
  },
  {
   "cell_type": "code",
   "execution_count": 73,
   "metadata": {},
   "outputs": [],
   "source": [
    "# 변수명 변경 \n",
    "# ['지점', '일시', '기온(°C)', '강수량(mm)']\n",
    "rain.columns = ['dist_name', 'date', 'temperature', 'rainfall']\n",
    "\n",
    "# fillna 함수를 활용해 결측치를 0으로 치환\n",
    "rain = rain.fillna(0)\n",
    "\n",
    "# rain 데이터의 date 변수를 datetime 형태로 변환\n",
    "rain['date'] = pd.to_datetime(rain['date'])\n",
    "\n",
    "# 기존의 데이터프레임에 새로운 변수를 병합\n",
    "df = pd.merge(df, rain, how='left', on=['dist_name', 'date'])"
   ]
  },
  {
   "cell_type": "markdown",
   "metadata": {},
   "source": [
    "* rainy_day"
   ]
  },
  {
   "cell_type": "code",
   "execution_count": 74,
   "metadata": {},
   "outputs": [],
   "source": [
    "def is_rainy(x):\n",
    "    if x == 0:\n",
    "        return 0 # 비 안오는 날\n",
    "    else:\n",
    "        return 1 # 비 오는 날\n",
    "\n",
    "df['rainy_day'] = df['rainfall'].apply(is_rainy)"
   ]
  },
  {
   "cell_type": "markdown",
   "metadata": {},
   "source": [
    "#### 3.3.2.2. jeju_financial_life_data를 활용한 변수"
   ]
  },
  {
   "cell_type": "code",
   "execution_count": 75,
   "metadata": {},
   "outputs": [],
   "source": [
    "# df 주소 데이터(df_location.csv) 로드\n",
    "df_loc = pd.read_csv(\"df_location.csv\", encoding='cp949')[['location','dong', 'si']]\n",
    "# jeju_life 주소 데이터(life_location.csv) 로드\n",
    "life_loc = pd.read_csv(\"life_location.csv\", encoding='cp949')[['location','dong', 'si']]\n",
    "\n",
    "# df의 위도, 경도 변수를 문자열로 취급하여 location 변수 생성\n",
    "df['location'] = df['latitude'].astype(str) + ',' + df['longitude'].astype(str)\n",
    "# jeju_life의 위도, 경도 변수를 문자열로 취급하여 location 변수 생성\n",
    "jeju_life['location'] = jeju_life['x_axis'].astype(str).str[:10] + ',' + jeju_life['y_axis'].astype(str).str[:10]\n",
    "\n",
    "# location 변수를 기준으로 df와 df_loc 병합\n",
    "df = pd.merge(df, df_loc, how='left', on='location')\n",
    "# location 변수를 기준으로 jeju_life와 life_loc 병합\n",
    "jeju_life = pd.merge(jeju_life, life_loc, how='left', on='location')"
   ]
  },
  {
   "cell_type": "markdown",
   "metadata": {},
   "source": [
    "* 각 동(읍, 면별) 직업 관련, 소득 관련, 소비 관련, 부동산 관련 평균, 합계, 비율"
   ]
  },
  {
   "cell_type": "code",
   "execution_count": 76,
   "metadata": {},
   "outputs": [],
   "source": [
    "col = ['job_majorc', 'job_smallc', 'job_public', 'job_profession', 'job_self', \n",
    "       'avg_income', 'med_income', 'avg_spend', 'vehicle_own_rat']\n",
    "\n",
    "# groupby 함수를 사용해 dong을 기준으로 위에서 선택한 변수들의 평균을 구함\n",
    "data1 = jeju_life.groupby(['dong'])[col].mean().reset_index()\n",
    "data1.columns=['dong','mean_job_majorc', 'mean_job_smallc', 'mean_job_public', \n",
    "               'mean_job_profession', 'mean_job_self','mean_vehicle_own_rat',\n",
    "               'mean_avg_income', 'mean_med_income', 'mean_avg_spend']\n",
    "\n",
    "# groupby 함수를 사용해 dong을 기준으로 위에서 선택한 변수들의 합계를 구함 \n",
    "data2 = jeju_life.groupby(['dong'])[col].sum().reset_index()\n",
    "data2.columns=['dong','sum_job_majorc', 'sum_job_smallc', 'sum_job_public', \n",
    "               'sum_job_profession', 'sum_job_self','sum_vehicle_own_rat', \n",
    "               'sum_avg_income', 'sum_med_income', 'sum_avg_spend']\n",
    "\n",
    "# groupby 함수를 사용해 dong을 기준으로 위에서 선택한 변수들의 비율을 구함\n",
    "data3 = (jeju_life.groupby(['dong'])[col].sum() \\\n",
    "             / jeju_life.groupby(['dong'])[col].sum().sum()).reset_index()\n",
    "data3.columns = ['dong','rate_job_majorc', 'rate_job_smallc', 'rate_job_public', \n",
    "                 'rate_job_profession', 'rate_job_self','rate_vehicle_own_rat', \n",
    "                 'rate_avg_income', 'rate_med_income', 'rate_avg_spend']\n",
    "\n",
    "# dong을 기준으로 기존의 데이터프레임에 새로운 변수를 병합\n",
    "merge_data1 = pd.merge(data1, data2, how='left', on='dong')\n",
    "merge_data2 = pd.merge(merge_data1, data3, how='left', on='dong')\n",
    "df = pd.merge(df, merge_data2, how='left', on='dong')"
   ]
  },
  {
   "cell_type": "code",
   "execution_count": 77,
   "metadata": {},
   "outputs": [],
   "source": [
    "# 결측치를 평균값으로 처리할 수 있도록 SimpleImputer를 사용합니다.\n",
    "imputer = SimpleImputer(strategy=\"mean\")\n",
    "\n",
    "# 결측치가 존재할 수 있는 변수 목록\n",
    "mean_na_col = ['mean_job_majorc', 'mean_job_smallc', 'mean_job_public',\n",
    "               'mean_job_profession', 'mean_job_self', 'mean_vehicle_own_rat',\n",
    "               'mean_avg_income', 'mean_med_income', 'mean_avg_spend']\n",
    "\n",
    "# fir_transform 명령어를 사용해서 해당 데이터의 결측치가 존재하면 평균 값을 치환해줍니다.\n",
    "df[mean_na_col] = pd.DataFrame(imputer.fit_transform(df[mean_na_col]), columns = mean_na_col)\n",
    "\n",
    "# 결측치가 존재할 수 있는 변수 목록\n",
    "sum_na_col = ['sum_job_majorc', 'sum_job_smallc', 'sum_job_public', \n",
    "              'sum_job_profession', 'sum_job_self', 'sum_vehicle_own_rat', \n",
    "              'sum_avg_income', 'sum_med_income', 'sum_avg_spend']\n",
    "\n",
    "# fir_transform 명령어를 사용해서 해당 데이터의 결측치가 존재하면 평균 값을 치환해줍니다.\n",
    "df[sum_na_col] = pd.DataFrame(imputer.fit_transform(df[sum_na_col]), columns = sum_na_col)\n",
    "\n",
    "# 결측치가 존재할 수 있는 변수 목록\n",
    "rate_na_col = ['rate_job_majorc', 'rate_job_smallc', 'rate_job_public',\n",
    "               'rate_job_profession', 'rate_job_self', 'rate_vehicle_own_rat', \n",
    "               'rate_avg_income', 'rate_med_income', 'rate_avg_spend']\n",
    "\n",
    "# fir_transform 명령어를 사용해서 해당 데이터의 결측치가 존재하면 평균 값을 치환해줍니다.\n",
    "df[rate_na_col] = pd.DataFrame(imputer.fit_transform(df[rate_na_col]), columns = rate_na_col)"
   ]
  },
  {
   "cell_type": "markdown",
   "metadata": {},
   "source": [
    "### 3.3.3. 추가 변수 생성"
   ]
  },
  {
   "cell_type": "markdown",
   "metadata": {},
   "source": [
    "<font color='blue'>3.3.3. '추가 변수 생성'에서 생성하는 변수는 책에는 나와있지 않으므로 주피터 파일을 참고해주세요."
   ]
  },
  {
   "cell_type": "markdown",
   "metadata": {},
   "source": [
    "* 승하차 시간대 통합 변수(t~t+3)"
   ]
  },
  {
   "cell_type": "code",
   "execution_count": 78,
   "metadata": {},
   "outputs": [],
   "source": [
    "# 오전시간대에 3시간동안 승차한 인원수의 합계\n",
    "df['69a'] = df['6~7_ride'] + df['7~8_ride'] + df['8~9_ride']\n",
    "df['912a']= df['9~10_ride'] + df['10~11_ride'] + df['11~12_ride']\n",
    "\n",
    "# 오전시간대에 3시간동안 하차한 인원수의 합계\n",
    "df['69b'] = df['6~7_takeoff'] + df['7~8_takeoff'] + df['8~9_takeoff']\n",
    "df['912b'] = df['9~10_takeoff'] + df['10~11_takeoff'] + df['11~12_takeoff']"
   ]
  },
  {
   "cell_type": "markdown",
   "metadata": {},
   "source": [
    "* 제주도 기상정보 변수"
   ]
  },
  {
   "cell_type": "code",
   "execution_count": 79,
   "metadata": {},
   "outputs": [],
   "source": [
    "# 변수명 변경\n",
    "# ['날짜', '현재일기', '현재기온', '체감온도', '일강수']\n",
    "weather.columns = ['date','description','temp','feels_like','rain']\n",
    "weather['rain'] = weather['rain'].replace(' ', '0')\n",
    "weather['rain'] = weather['rain'].astype(float)\n",
    "weather['date'] = pd.to_datetime(weather['date'])\n",
    "df = pd.merge(df, weather, how='left', on='date')"
   ]
  },
  {
   "cell_type": "markdown",
   "metadata": {},
   "source": [
    "* id별 퇴근 시간 총/평균 승객수"
   ]
  },
  {
   "cell_type": "code",
   "execution_count": 80,
   "metadata": {},
   "outputs": [],
   "source": [
    "def id_statistic(ID, col1, col2) :\n",
    "    \n",
    "    train_data = df.query('cue==\"0\"').reset_index()    \n",
    "\n",
    "    # mean, sum\n",
    "    rs_mean = train_data.groupby([ID])['18~20_ride'].agg([(col1, 'mean')]).reset_index()\n",
    "    rs_sum = train_data.groupby([ID])['18~20_ride'].agg([(col2, 'sum')]).reset_index()\n",
    "    rs_mean_sum = pd.merge(rs_mean, rs_sum, on=ID)\n",
    "\n",
    "    # merge\n",
    "    merge_data = pd.merge(df, rs_mean_sum, how='left', on=ID)\n",
    "\n",
    "    # 연속형 변수의 결측치를 평균값으로 대체\n",
    "    merge_data[col1] = merge_data[col1].fillna(rs_mean[col1].mean())\n",
    "    merge_data[col2] = merge_data[col2].fillna(rs_sum[col2].mean())\n",
    "    \n",
    "    return merge_data\n",
    "\n",
    "\n",
    "df = id_statistic('bus_route_id', '1820_r_mean', '1820_r_sum')\n",
    "df = id_statistic('station_code', '1820_s_mean', '1820_s_sum')\n",
    "df = id_statistic('weekday', '1820_w_mean', '1820_w_sum')\n",
    "df = id_statistic('route_station', '1820_rs_mean', '1820_rs_sum')"
   ]
  },
  {
   "cell_type": "markdown",
   "metadata": {},
   "source": [
    "* 라벨 인코딩"
   ]
  },
  {
   "cell_type": "code",
   "execution_count": 82,
   "metadata": {},
   "outputs": [],
   "source": [
    "from sklearn.preprocessing import LabelEncoder\n",
    "labelencoder = LabelEncoder()\n",
    "df_encode = df[['description', 'bus_route_id','station_code']]\n",
    "df_encoded = df_encode.apply(labelencoder.fit_transform)\n",
    "\n",
    "df['description'] = df_encoded['description']\n",
    "df['bus_route_id2'] = df_encoded['bus_route_id']\n",
    "df['station_code2'] = df_encoded['station_code']"
   ]
  },
  {
   "cell_type": "markdown",
   "metadata": {},
   "source": [
    "### 3.3.4. 라벨 인코딩과 원핫 인코딩 변수"
   ]
  },
  {
   "cell_type": "markdown",
   "metadata": {},
   "source": [
    "#### 3.3.4.1. 라벨 인코딩 변수"
   ]
  },
  {
   "cell_type": "markdown",
   "metadata": {},
   "source": [
    "* in_out"
   ]
  },
  {
   "cell_type": "code",
   "execution_count": 83,
   "metadata": {},
   "outputs": [],
   "source": [
    "df['in_out'] = df['in_out'].map({'시내':0,'시외':1})"
   ]
  },
  {
   "cell_type": "markdown",
   "metadata": {},
   "source": [
    "* 주말 및 주중"
   ]
  },
  {
   "cell_type": "code",
   "execution_count": 84,
   "metadata": {},
   "outputs": [],
   "source": [
    "def is_weekend(x):\n",
    "    if x == 5: # 토요일\n",
    "        return 1\n",
    "    elif x == 6: # 일요일\n",
    "        return 1\n",
    "    else:\n",
    "        return 0\n",
    "    \n",
    "df['weekend'] = df['weekday'].apply(is_weekend)"
   ]
  },
  {
   "cell_type": "markdown",
   "metadata": {},
   "source": [
    "* 시, 동"
   ]
  },
  {
   "cell_type": "code",
   "execution_count": 85,
   "metadata": {},
   "outputs": [],
   "source": [
    "labelencoder = LabelEncoder()\n",
    "\n",
    "df_encode = df[['si', 'dong']]\n",
    "df_encoded = df_encode.apply(labelencoder.fit_transform)\n",
    "\n",
    "df['si']=df_encoded['si']\n",
    "df['dong']=df_encoded['dong']"
   ]
  },
  {
   "cell_type": "markdown",
   "metadata": {},
   "source": [
    "#### 3.3.4.2. 원핫 인코딩 변수"
   ]
  },
  {
   "cell_type": "code",
   "execution_count": 86,
   "metadata": {},
   "outputs": [],
   "source": [
    "df = pd.get_dummies(df, columns=['weekday', 'dist_name'])"
   ]
  },
  {
   "cell_type": "markdown",
   "metadata": {},
   "source": [
    "## 3.4. 모델 구축 및 검증"
   ]
  },
  {
   "cell_type": "code",
   "execution_count": 87,
   "metadata": {},
   "outputs": [],
   "source": [
    "# 문자 형태의 변수 추출\n",
    "object_column = list(df.columns[df.dtypes == 'object'])\n",
    "# 문자형 변수 제거\n",
    "df = df.drop(object_column, axis='columns')\n",
    "\n",
    "# datetime 형태의 변수 추출\n",
    "datetime_column = list(df.columns[df.dtypes == 'datetime64[ns]'])\n",
    "# datetime형 변수 제거\n",
    "df = df.drop(datetime_column, axis='columns')"
   ]
  },
  {
   "cell_type": "code",
   "execution_count": 88,
   "metadata": {},
   "outputs": [],
   "source": [
    "# 학습 데이터\n",
    "X_train = df.query(\"cue=='0'\").drop(['cue', '18~20_ride'], axis='columns')\n",
    "# 테스트 데이터\n",
    "X_test = df.query(\"cue=='1'\").drop(['cue', '18~20_ride'], axis='columns')\n",
    "# 타깃 변수\n",
    "y_train = df.query(\"cue=='0'\")['18~20_ride']"
   ]
  },
  {
   "cell_type": "markdown",
   "metadata": {},
   "source": [
    "### 3.4.1. 머신러닝 모델"
   ]
  },
  {
   "cell_type": "markdown",
   "metadata": {},
   "source": [
    "#### 3.4.1.1. 배깅 방식 앙상블 모델"
   ]
  },
  {
   "cell_type": "markdown",
   "metadata": {},
   "source": [
    "* 랜덤포레스트"
   ]
  },
  {
   "cell_type": "code",
   "execution_count": 89,
   "metadata": {},
   "outputs": [],
   "source": [
    "from sklearn.ensemble import RandomForestRegressor\n",
    "\n",
    "rf_model = RandomForestRegressor()\n",
    "# 모델 학습\n",
    "rf_model.fit(X_train, y_train)\n",
    "# 예측값 생성\n",
    "y_test = rf_model.predict(X_test)"
   ]
  },
  {
   "cell_type": "markdown",
   "metadata": {},
   "source": [
    "#### 3.4.1.2. 부스팅 방식 앙상블 모델"
   ]
  },
  {
   "cell_type": "markdown",
   "metadata": {},
   "source": [
    "* XGBoost"
   ]
  },
  {
   "cell_type": "code",
   "execution_count": 90,
   "metadata": {},
   "outputs": [
    {
     "name": "stdout",
     "output_type": "stream",
     "text": [
      "[19:49:19] WARNING: C:/Jenkins/workspace/xgboost-win64_release_0.90/src/objective/regression_obj.cu:152: reg:linear is now deprecated in favor of reg:squarederror.\n"
     ]
    }
   ],
   "source": [
    "from xgboost import XGBRegressor\n",
    "\n",
    "xgb_model = XGBRegressor()\n",
    "# 모델 학습\n",
    "xgb_model.fit(X_train, y_train)\n",
    "# 예측값 생성\n",
    "y_test = xgb_model.predict(X_test)"
   ]
  },
  {
   "cell_type": "markdown",
   "metadata": {},
   "source": [
    "* LightGBM"
   ]
  },
  {
   "cell_type": "code",
   "execution_count": 91,
   "metadata": {},
   "outputs": [],
   "source": [
    "# lightgbm이 설치되어 있지 않다면 아래 명령으로 설치할 수 있습니다.\n",
    "# !pip install lightgbm\n",
    "\n",
    "import lightgbm as lgb\n",
    "\n",
    "lgbm = lgb.LGBMRegressor()\n",
    "# 모델 학습\n",
    "lgbm.fit(X_train, y_train)\n",
    "# 예측값 생성\n",
    "y_test = lgbm.predict(X_test)"
   ]
  },
  {
   "cell_type": "markdown",
   "metadata": {},
   "source": [
    "#### 3.4.2.1. 교차검증"
   ]
  },
  {
   "cell_type": "code",
   "execution_count": 92,
   "metadata": {},
   "outputs": [
    {
     "name": "stdout",
     "output_type": "stream",
     "text": [
      "cross_val_score \n",
      "[2.53370197 2.56330058 2.62220643 2.49484088 2.42065083]\n",
      "cross_val_score.mean \n",
      "2.528\n"
     ]
    }
   ],
   "source": [
    "from sklearn.model_selection import cross_val_score\n",
    "\n",
    "rf_model = RandomForestRegressor()\n",
    "\n",
    "# cv=5인 교차 검증\n",
    "scores = cross_val_score(rf_model, X_train, y_train, cv=5, scoring = 'neg_mean_squared_error')\n",
    "\n",
    "# 성능 확인\n",
    "print('cross_val_score \\n{}'.format(np.sqrt(-scores)))\n",
    "print('cross_val_score.mean \\n{:.3f}'.format(np.sqrt(-scores.mean())))"
   ]
  },
  {
   "cell_type": "markdown",
   "metadata": {},
   "source": [
    "#### 3.4.3.1. 최종 데이터 구축"
   ]
  },
  {
   "cell_type": "code",
   "execution_count": 93,
   "metadata": {},
   "outputs": [],
   "source": [
    "input_var1=['in_out', 'latitude', 'longitude','6~7_ride', '7~8_ride', '8~9_ride', '9~10_ride', \n",
    "            '10~11_ride', '11~12_ride', '6~7_takeoff', '7~8_takeoff', '8~9_takeoff', '9~10_takeoff', \n",
    "            '10~11_takeoff', '11~12_takeoff', 'weekday_0', 'weekday_1', 'weekday_2', 'weekday_3', \n",
    "            'weekday_4', 'weekday_5', 'weekday_6', 'dis_jejusi', 'dis_jejusicheong1','dis_jejuairport',\n",
    "            'dis_hallahosp', 'dis_rotary','dis_jejucenterhigh', 'dis_jejumarket', 'dis_centerroad', \n",
    "            'dis_jejusclass', 'dis_fiveway', 'dis_law', 'weekend', 'holiday', 'ride_sum', 'takeoff_sum', \n",
    "            '1820_r_mean', '1820_s_mean', '1820_w_mean', '1820_rs_mean', 'station_code2', \n",
    "            'bus_route_id2', 'rain', 'description', 'feels_like', '6~7_ride_sum', \n",
    "            '7~8_ride_sum', '8~9_ride_sum', '9~10_ride_sum', '10~11_ride_sum', \n",
    "            'in_out_mean', 'weekdaymean', 'adult', 'kids', 'teen', 'elder', 'adult_prop', 'kids_prop', \n",
    "            'teen_prop', 'elder_prop', 'mean_job_majorc', 'mean_job_smallc', 'mean_job_public', \n",
    "            'mean_job_profession', 'mean_job_self', 'mean_vehicle_own_rat', 'mean_avg_income', \n",
    "            'mean_med_income', 'mean_avg_spend', 'rate_job_majorc', 'rate_job_smallc', \n",
    "            'rate_job_public', 'rate_job_profession', 'rate_job_self', 'rate_vehicle_own_rat', \n",
    "            'rate_avg_income', 'rate_med_income', 'rate_avg_spend', 'sum_job_majorc', \n",
    "            'sum_job_smallc', 'sum_job_public', 'sum_job_profession', 'sum_job_self', \n",
    "            'sum_vehicle_own_rat', 'sum_avg_income', 'sum_med_income', 'sum_avg_spend', \n",
    "            '68a', '810a', '1012a', '68b', '810b', '1012b', '69a', '912a', '69b', '912b', \n",
    "            'dis_jeju', 'dis_gosan', 'dis_seongsan', 'dis_po', \n",
    "            'dist_name_gosan', 'dist_name_jeju', 'dist_name_po', 'dist_name_seongsan', \n",
    "            'temperature', 'rainfall', 'school', 'transfer', 'si', 'dong', 'rainy_day']"
   ]
  },
  {
   "cell_type": "code",
   "execution_count": 94,
   "metadata": {},
   "outputs": [],
   "source": [
    "input_var2=['in_out', 'latitude', 'longitude','6~7_ride', '7~8_ride', '8~9_ride', '9~10_ride', \n",
    "            '10~11_ride', '11~12_ride', '6~7_takeoff', '7~8_takeoff', '8~9_takeoff', '9~10_takeoff', \n",
    "            '10~11_takeoff', '11~12_takeoff', 'weekday_0', 'weekday_1', 'weekday_2', 'weekday_3', \n",
    "            'weekday_4', 'weekday_5', 'weekday_6', 'dis_jejusi', 'dis_jejusicheong1','dis_jejuairport',\n",
    "            'dis_hallahosp', 'dis_rotary','dis_jejucenterhigh', 'dis_jejumarket', 'dis_centerroad', \n",
    "            'dis_jejusclass', 'dis_fiveway', 'dis_law', 'weekend', 'holiday', 'ride_sum', 'takeoff_sum', \n",
    "            '1820_rs_mean', '1820_r_mean', '1820_s_mean', 'station_code2', 'bus_route_id2', \n",
    "            'rain', 'description', 'feels_like', '1820_w_mean', 'in_out_mean', \n",
    "            'weekdaymean', 'adult', 'kids', 'teen', 'elder', 'adult_prop', 'kids_prop', 'teen_prop', \n",
    "            'elder_prop', 'mean_job_majorc', 'mean_job_smallc', 'mean_job_public', \n",
    "            'mean_job_profession', 'mean_job_self', 'mean_vehicle_own_rat', '68a', '810a', '1012a', \n",
    "            '68b', '810b', '1012b', 'dis_jeju', 'dis_gosan', 'dis_seongsan', 'dis_po', 'dist_name_gosan',\n",
    "            'dist_name_jeju', 'dist_name_po', 'dist_name_seongsan', 'temperature', 'rainfall']"
   ]
  },
  {
   "cell_type": "code",
   "execution_count": 95,
   "metadata": {},
   "outputs": [],
   "source": [
    "input_var3=['in_out', 'latitude', 'longitude','6~7_ride', '7~8_ride', '8~9_ride', '9~10_ride', \n",
    "            '10~11_ride', '11~12_ride', '6~7_takeoff', '7~8_takeoff', '8~9_takeoff', '9~10_takeoff', \n",
    "            '10~11_takeoff', '11~12_takeoff', 'weekday_0', 'weekday_1', 'weekday_2', 'weekday_3', \n",
    "            'weekday_4', 'weekday_5', 'weekday_6', 'dis_jejusi', 'dis_jejuairport',\n",
    "            'ride_sum', 'takeoff_sum','1820_r_mean','1820_r_sum', '1820_s_mean', '1820_s_sum', \n",
    "            '1820_w_mean', '1820_w_sum', '1820_rs_mean', '1820_rs_sum', 'bus_route_id2', \n",
    "            '6~7_ride_sum', '7~8_ride_sum', '8~9_ride_sum', '9~10_ride_sum', '10~11_ride_sum', \n",
    "            'sum_avg_spend', '68a', '810a', 'si', 'dong']"
   ]
  },
  {
   "cell_type": "markdown",
   "metadata": {},
   "source": [
    "### 3.4.4. 하이퍼파라미터 튜닝"
   ]
  },
  {
   "cell_type": "markdown",
   "metadata": {},
   "source": [
    "#### 3.4.4.1. 그리드 서치"
   ]
  },
  {
   "cell_type": "code",
   "execution_count": 96,
   "metadata": {},
   "outputs": [
    {
     "name": "stdout",
     "output_type": "stream",
     "text": [
      "최적 하이퍼파라미터:  {'max_features': 8, 'min_samples_leaf': 1, 'n_estimators': 500}\n",
      "최적 하이퍼파라미터의 성능(RMSE): 0.8700\n"
     ]
    }
   ],
   "source": [
    "from sklearn.model_selection import GridSearchCV\n",
    "\n",
    "rf_clf = RandomForestRegressor()\n",
    "\n",
    "# 탐색할 하이퍼파라미터 값 지정\n",
    "params = {'n_estimators' : [200, 300, 500],\n",
    "          'max_features': [5, 6, 8],\n",
    "          'min_samples_leaf' : [1, 3, 5]}\n",
    "\n",
    "# GridSearchCV를 이용해 최적의 하이퍼파라미터 탐색\n",
    "grid_cv = GridSearchCV(rf_clf, param_grid = params, cv = 3)\n",
    "grid_cv.fit(X_train[input_var1], y_train)\n",
    "\n",
    "# 최적의 하이퍼파라미터 값과 성능 출력\n",
    "print('최적 하이퍼파라미터: ', grid_cv.best_params_)\n",
    "print('최적 하이퍼파라미터의 성능(RMSE): {:.4f}'.format(np.sqrt(grid_cv.best_score_)))"
   ]
  },
  {
   "cell_type": "markdown",
   "metadata": {},
   "source": [
    "#### 3.4.4.2. 랜덤 서치"
   ]
  },
  {
   "cell_type": "code",
   "execution_count": 97,
   "metadata": {},
   "outputs": [
    {
     "name": "stdout",
     "output_type": "stream",
     "text": [
      "최적 하이퍼파라미터:  {'max_features': 8, 'min_samples_leaf': 1, 'n_estimators': 205}\n",
      "최적 하이퍼파라미터의 성능(RMSE): 0.8698\n"
     ]
    }
   ],
   "source": [
    "import scipy.stats as stats\n",
    "from sklearn.model_selection import RandomizedSearchCV\n",
    "\n",
    "rf_clf = RandomForestRegressor()\n",
    "\n",
    "# 탐색할 하이퍼파라미터 구간 지정\n",
    "params = {'n_estimators': stats.randint(100, 500),\n",
    "          'max_features': stats.randint(4, 10),\n",
    "          'min_samples_leaf': stats.randint(1, 5)}\n",
    "\n",
    "# RandomizedSearchCV를 이용해 최적의 하이퍼파라미터 탐색\n",
    "rand_cv = RandomizedSearchCV(rf_clf, param_distributions = params, n_iter = 10, cv = 3)\n",
    "rand_cv.fit(X_train[input_var1], y_train)\n",
    "\n",
    "# 최적의 하이퍼파라미터 값과 성능 출력\n",
    "print('최적 하이퍼파라미터: ', rand_cv.best_params_)\n",
    "print('최적 하이퍼파라미터의 성능(RMSE): {:.4f}'.format(np.sqrt(rand_cv.best_score_)))"
   ]
  },
  {
   "cell_type": "markdown",
   "metadata": {},
   "source": [
    "### 3.4.5. 최종 모델 구축"
   ]
  },
  {
   "cell_type": "markdown",
   "metadata": {},
   "source": [
    "#### 3.4.5.2. 최종 모델 구축"
   ]
  },
  {
   "cell_type": "code",
   "execution_count": 98,
   "metadata": {},
   "outputs": [],
   "source": [
    "# submission_sample 데이터 로드\n",
    "sub = pd.read_csv('submission_sample.csv')"
   ]
  },
  {
   "cell_type": "code",
   "execution_count": 99,
   "metadata": {},
   "outputs": [],
   "source": [
    "sub_dir = \"C:/dacon/submission/\"\n",
    "\n",
    "# 'dacon' 하위 폴더에 'submission' 폴더가 없다면 'submission' 폴더를 생성\n",
    "if not os.path.isdir(sub_dir):                                                           \n",
    "    os.mkdir(sub_dir)\n",
    "\n",
    "# 작업 경로를 'submission' 폴더로 변경\n",
    "os.chdir(sub_dir)"
   ]
  },
  {
   "cell_type": "markdown",
   "metadata": {},
   "source": [
    "* 첫 번째 데이터로 만든 모델"
   ]
  },
  {
   "cell_type": "code",
   "execution_count": 100,
   "metadata": {},
   "outputs": [
    {
     "data": {
      "text/plain": [
       "1.6948171043544884"
      ]
     },
     "execution_count": 100,
     "metadata": {},
     "output_type": "execute_result"
    }
   ],
   "source": [
    "# 첫 번째 모델 정의\n",
    "model1 = lgb.LGBMRegressor(num_iterations = 1000, learning_rate = 0.05, \n",
    "                           boosting = 'dart', Metric = 'regression_l2', n_jobs=-1)\n",
    "# 모델 학습\n",
    "model1.fit(X_train[input_var1], y_train)\n",
    "# 예측값 생성\n",
    "pred1 = model1.predict(X_train[input_var1])\n",
    "# 성능 확인\n",
    "from sklearn.metrics import mean_squared_error\n",
    "np.sqrt(mean_squared_error(y_train, pred1))"
   ]
  },
  {
   "cell_type": "code",
   "execution_count": 101,
   "metadata": {},
   "outputs": [],
   "source": [
    "# X_test 데이터에 대한 예측값 생성\n",
    "y_pred1 = model1.predict(X_test[input_var1])\n",
    "sub['18~20_ride'] = y_pred1\n",
    "# 'submission' 폴더에 csv 파일 저장\n",
    "sub.to_csv('model1_lgbm.csv', index = False)"
   ]
  },
  {
   "cell_type": "code",
   "execution_count": 102,
   "metadata": {},
   "outputs": [
    {
     "data": {
      "text/plain": [
       "0.8193296934924832"
      ]
     },
     "execution_count": 102,
     "metadata": {},
     "output_type": "execute_result"
    }
   ],
   "source": [
    "# 두 번째 모델 정의\n",
    "model2 = RandomForestRegressor(random_state=1217, max_features=8, \n",
    "                               min_samples_leaf=1, n_estimators=500)\n",
    "# 모델 학습\n",
    "model2.fit(X_train[input_var1], y_train)\n",
    "# 예측값 생성\n",
    "pred2 = model2.predict(X_train[input_var1])\n",
    "# 성능 확인\n",
    "np.sqrt(mean_squared_error(y_train, pred2))"
   ]
  },
  {
   "cell_type": "code",
   "execution_count": 103,
   "metadata": {},
   "outputs": [],
   "source": [
    "# X_test 데이터에 대한 예측값 생성\n",
    "y_pred2 = model2.predict(X_test[input_var1])\n",
    "sub['18~20_ride'] = y_pred2\n",
    "# 'submission' 폴더에 csv 파일 저장\n",
    "sub.to_csv('model2_rf.csv', index = False)"
   ]
  },
  {
   "cell_type": "code",
   "execution_count": 104,
   "metadata": {},
   "outputs": [
    {
     "data": {
      "text/plain": [
       "1.528199784973013"
      ]
     },
     "execution_count": 104,
     "metadata": {},
     "output_type": "execute_result"
    }
   ],
   "source": [
    "# 세 번째 모델 정의\n",
    "model3 = RandomForestRegressor(random_state=1217, max_features= 3, \n",
    "                               min_samples_leaf= 2, n_estimators=500)\n",
    "# 모델 학습\n",
    "model3.fit(X_train[input_var1], y_train)\n",
    "# 예측값 생성\n",
    "pred3 = model3.predict(X_train[input_var1])\n",
    "# 성능 확인\n",
    "np.sqrt(mean_squared_error(y_train, pred3))"
   ]
  },
  {
   "cell_type": "code",
   "execution_count": 105,
   "metadata": {},
   "outputs": [],
   "source": [
    "# X_test 데이터에 대한 예측값 생성\n",
    "y_pred3 = model3.predict(X_test[input_var1])\n",
    "sub['18~20_ride'] = y_pred3\n",
    "# 'submission' 폴더에 csv 파일 저장\n",
    "sub.to_csv('model3_rf.csv', index = False)"
   ]
  },
  {
   "cell_type": "markdown",
   "metadata": {},
   "source": [
    "* 두 번째 데이터로 만든 모델"
   ]
  },
  {
   "cell_type": "code",
   "execution_count": 106,
   "metadata": {},
   "outputs": [
    {
     "data": {
      "text/plain": [
       "1.441432134120466"
      ]
     },
     "execution_count": 106,
     "metadata": {},
     "output_type": "execute_result"
    }
   ],
   "source": [
    "# 네 번째 모델 정의\n",
    "model4 = RandomForestRegressor(random_state=1217, max_features=4, \n",
    "                               min_samples_leaf=2, n_estimators=500)\n",
    "# 모델 학습\n",
    "model4.fit(X_train[input_var2], y_train)\n",
    "# 예측값 생성\n",
    "pred4 = model4.predict(X_train[input_var2])\n",
    "# 성능 확인\n",
    "np.sqrt(mean_squared_error(y_train, pred4))"
   ]
  },
  {
   "cell_type": "code",
   "execution_count": 107,
   "metadata": {},
   "outputs": [],
   "source": [
    "# X_test 데이터에 대한 예측값 생성\n",
    "y_pred4 = model4.predict(X_test[input_var2])\n",
    "sub['18~20_ride'] = y_pred4\n",
    "# 'submission' 폴더에 csv 파일 저장\n",
    "sub.to_csv('model4_rf.csv', index = False)"
   ]
  },
  {
   "cell_type": "markdown",
   "metadata": {},
   "source": [
    "* 세 번째 데이터로 만든 모델"
   ]
  },
  {
   "cell_type": "code",
   "execution_count": 108,
   "metadata": {},
   "outputs": [
    {
     "data": {
      "text/plain": [
       "1.5472939934289363"
      ]
     },
     "execution_count": 108,
     "metadata": {},
     "output_type": "execute_result"
    }
   ],
   "source": [
    "# 다섯 번째 모델 정의\n",
    "model5 = RandomForestRegressor(random_state=1217, max_features=7, \n",
    "                               min_samples_leaf=4, n_estimators=300)\n",
    "# 모델 학습\n",
    "model5.fit(X_train[input_var3], y_train)\n",
    "# 예측값 생성\n",
    "pred5 = model5.predict(X_train[input_var3])\n",
    "# 성능 확인\n",
    "np.sqrt(mean_squared_error(y_train, pred5))"
   ]
  },
  {
   "cell_type": "code",
   "execution_count": 109,
   "metadata": {},
   "outputs": [],
   "source": [
    "# X_test 데이터에 대한 예측값 생성\n",
    "y_pred5 = model5.predict(X_test[input_var3])\n",
    "sub['18~20_ride'] = y_pred5\n",
    "# 'submission' 폴더에 csv 파일 저장\n",
    "sub.to_csv('model5_rf.csv', index = False)"
   ]
  },
  {
   "cell_type": "markdown",
   "metadata": {},
   "source": [
    "## 3.5. 성능 향상을 위한 방법"
   ]
  },
  {
   "cell_type": "markdown",
   "metadata": {},
   "source": [
    "### 3.5.1. 앙상블"
   ]
  },
  {
   "cell_type": "markdown",
   "metadata": {},
   "source": [
    "<font color='blue'>5개의 submission 파일명을 각각 '모델 번호_사용한 모델=가채점 RMSE.csv' 형식으로 변경한 뒤 다음 과정을 진행합니다. 예를 들어, 'model1_lgbm.csv' 파일의 가채점 RMSE가 2.29라면 'model1_lgbm=2.29.csv' 형식으로 변경하는 것입니다."
   ]
  },
  {
   "cell_type": "code",
   "execution_count": 110,
   "metadata": {},
   "outputs": [],
   "source": [
    "sub_list = [] # 작업 경로 안에 있는 파일 중 확장자가 .csv인 파일을 담을 리스트 생성\n",
    "fname_list = [] # 확장자를 제외한 파일명을 담을 리스트 생성\n",
    "\n",
    "for filename in os.listdir(): # 작업 경로 안에 있는 모든 파일의 리스트 불러오기\n",
    "    fname, ext = os.path.splitext(filename) # filename을 파일명과 확장자로 분리\n",
    "    if ext == '.csv': # 확장자가 .csv인 파일인 경우\n",
    "        sub_list.append(filename) # filename을 sub_list에 추가\n",
    "        fname_list.append(fname) # 파일명을 fname_list에 추가"
   ]
  },
  {
   "cell_type": "markdown",
   "metadata": {},
   "source": [
    "#### 3.5.1.1. 결괏값 간 상관계수 확인"
   ]
  },
  {
   "cell_type": "code",
   "execution_count": 111,
   "metadata": {},
   "outputs": [
    {
     "data": {
      "text/html": [
       "<div>\n",
       "<style scoped>\n",
       "    .dataframe tbody tr th:only-of-type {\n",
       "        vertical-align: middle;\n",
       "    }\n",
       "\n",
       "    .dataframe tbody tr th {\n",
       "        vertical-align: top;\n",
       "    }\n",
       "\n",
       "    .dataframe thead th {\n",
       "        text-align: right;\n",
       "    }\n",
       "</style>\n",
       "<table border=\"1\" class=\"dataframe\">\n",
       "  <thead>\n",
       "    <tr style=\"text-align: right;\">\n",
       "      <th></th>\n",
       "      <th>model1_lgbm=2.29.csv</th>\n",
       "      <th>model2_rf=2.34.csv</th>\n",
       "      <th>model3_rf=2.38.csv</th>\n",
       "      <th>model4_rf=2.36.csv</th>\n",
       "      <th>model5_rf=2.31.csv</th>\n",
       "    </tr>\n",
       "  </thead>\n",
       "  <tbody>\n",
       "    <tr>\n",
       "      <th>model1_lgbm=2.29.csv</th>\n",
       "      <td>1.000000</td>\n",
       "      <td>0.979854</td>\n",
       "      <td>0.974709</td>\n",
       "      <td>0.974184</td>\n",
       "      <td>0.986977</td>\n",
       "    </tr>\n",
       "    <tr>\n",
       "      <th>model2_rf=2.34.csv</th>\n",
       "      <td>0.979854</td>\n",
       "      <td>1.000000</td>\n",
       "      <td>0.995806</td>\n",
       "      <td>0.993388</td>\n",
       "      <td>0.992342</td>\n",
       "    </tr>\n",
       "    <tr>\n",
       "      <th>model3_rf=2.38.csv</th>\n",
       "      <td>0.974709</td>\n",
       "      <td>0.995806</td>\n",
       "      <td>1.000000</td>\n",
       "      <td>0.995072</td>\n",
       "      <td>0.987900</td>\n",
       "    </tr>\n",
       "    <tr>\n",
       "      <th>model4_rf=2.36.csv</th>\n",
       "      <td>0.974184</td>\n",
       "      <td>0.993388</td>\n",
       "      <td>0.995072</td>\n",
       "      <td>1.000000</td>\n",
       "      <td>0.985777</td>\n",
       "    </tr>\n",
       "    <tr>\n",
       "      <th>model5_rf=2.31.csv</th>\n",
       "      <td>0.986977</td>\n",
       "      <td>0.992342</td>\n",
       "      <td>0.987900</td>\n",
       "      <td>0.985777</td>\n",
       "      <td>1.000000</td>\n",
       "    </tr>\n",
       "  </tbody>\n",
       "</table>\n",
       "</div>"
      ],
      "text/plain": [
       "                      model1_lgbm=2.29.csv  model2_rf=2.34.csv  \\\n",
       "model1_lgbm=2.29.csv              1.000000            0.979854   \n",
       "model2_rf=2.34.csv                0.979854            1.000000   \n",
       "model3_rf=2.38.csv                0.974709            0.995806   \n",
       "model4_rf=2.36.csv                0.974184            0.993388   \n",
       "model5_rf=2.31.csv                0.986977            0.992342   \n",
       "\n",
       "                      model3_rf=2.38.csv  model4_rf=2.36.csv  \\\n",
       "model1_lgbm=2.29.csv            0.974709            0.974184   \n",
       "model2_rf=2.34.csv              0.995806            0.993388   \n",
       "model3_rf=2.38.csv              1.000000            0.995072   \n",
       "model4_rf=2.36.csv              0.995072            1.000000   \n",
       "model5_rf=2.31.csv              0.987900            0.985777   \n",
       "\n",
       "                      model5_rf=2.31.csv  \n",
       "model1_lgbm=2.29.csv            0.986977  \n",
       "model2_rf=2.34.csv              0.992342  \n",
       "model3_rf=2.38.csv              0.987900  \n",
       "model4_rf=2.36.csv              0.985777  \n",
       "model5_rf=2.31.csv              1.000000  "
      ]
     },
     "execution_count": 111,
     "metadata": {},
     "output_type": "execute_result"
    }
   ],
   "source": [
    "# 상관계수 행렬을 저장할 데이터프레임 생성\n",
    "corr_df = pd.DataFrame()\n",
    "\n",
    "for file in sub_list:\n",
    "    # 각 submission 파일의 18~20_ride 변수를 sub_df에 저장\n",
    "    sub_df = pd.read_csv(file, engine = 'python').iloc[:,1:]\n",
    "    # 변수명을 파일의 이름으로 지정\n",
    "    sub_df.columns = [str(file)]\n",
    "    # sub_df를 corr_df에 병합\n",
    "    corr_df = pd.concat([corr_df, sub_df], axis = 1)\n",
    "\n",
    "# 상관계수 행렬 출력    \n",
    "corr_df.corr()"
   ]
  },
  {
   "cell_type": "code",
   "execution_count": 112,
   "metadata": {},
   "outputs": [
    {
     "data": {
      "text/html": [
       "<div>\n",
       "<style scoped>\n",
       "    .dataframe tbody tr th:only-of-type {\n",
       "        vertical-align: middle;\n",
       "    }\n",
       "\n",
       "    .dataframe tbody tr th {\n",
       "        vertical-align: top;\n",
       "    }\n",
       "\n",
       "    .dataframe thead th {\n",
       "        text-align: right;\n",
       "    }\n",
       "</style>\n",
       "<table border=\"1\" class=\"dataframe\">\n",
       "  <thead>\n",
       "    <tr style=\"text-align: right;\">\n",
       "      <th></th>\n",
       "      <th>model</th>\n",
       "      <th>rmse</th>\n",
       "      <th>cor</th>\n",
       "    </tr>\n",
       "  </thead>\n",
       "  <tbody>\n",
       "    <tr>\n",
       "      <th>0</th>\n",
       "      <td>model1_lgbm</td>\n",
       "      <td>2.29</td>\n",
       "      <td>0.983145</td>\n",
       "    </tr>\n",
       "    <tr>\n",
       "      <th>1</th>\n",
       "      <td>model2_rf</td>\n",
       "      <td>2.34</td>\n",
       "      <td>0.992278</td>\n",
       "    </tr>\n",
       "    <tr>\n",
       "      <th>2</th>\n",
       "      <td>model3_rf</td>\n",
       "      <td>2.38</td>\n",
       "      <td>0.990697</td>\n",
       "    </tr>\n",
       "    <tr>\n",
       "      <th>3</th>\n",
       "      <td>model4_rf</td>\n",
       "      <td>2.36</td>\n",
       "      <td>0.989684</td>\n",
       "    </tr>\n",
       "    <tr>\n",
       "      <th>4</th>\n",
       "      <td>model5_rf</td>\n",
       "      <td>2.31</td>\n",
       "      <td>0.990599</td>\n",
       "    </tr>\n",
       "  </tbody>\n",
       "</table>\n",
       "</div>"
      ],
      "text/plain": [
       "         model  rmse       cor\n",
       "0  model1_lgbm  2.29  0.983145\n",
       "1    model2_rf  2.34  0.992278\n",
       "2    model3_rf  2.38  0.990697\n",
       "3    model4_rf  2.36  0.989684\n",
       "4    model5_rf  2.31  0.990599"
      ]
     },
     "execution_count": 112,
     "metadata": {},
     "output_type": "execute_result"
    }
   ],
   "source": [
    "corr_list = np.array(corr_df.corr().mean(axis = 0))  \n",
    "\n",
    "model_list = [] # 모델명을 담을 리스트 생성\n",
    "rmse_list = [] # 각 submission 파일의 가채점 RMSE를 담을 리스트 생성\n",
    "\n",
    "for fname in fname_list:\n",
    "    model = fname.split('=')[0] # ‘=’ 기호를 기준으로 모델명을 분리\n",
    "    model_list.append(model) # 모델명을 model_list에 추가\n",
    "\n",
    "    score = fname.split('=')[-1] # ‘=’ 기호를 기준으로 가채점 RMSE를 분리\n",
    "    score = float(score) # 실수형으로 변환\n",
    "    rmse_list.append(score) # 가채점 RMSE를 rmse_list에 추가\n",
    "    \n",
    "# model_list, rmse_list, corr_list를 변수로 하는 데이터프레임 생성\n",
    "score_df = pd.DataFrame({'model': model_list, 'rmse': rmse_list, 'cor': corr_list})\n",
    "score_df"
   ]
  },
  {
   "cell_type": "code",
   "execution_count": 113,
   "metadata": {},
   "outputs": [
    {
     "data": {
      "image/png": "[encoded data removed]",
      "text/plain": [
       "<Figure size 720x360 with 1 Axes>"
      ]
     },
     "metadata": {
      "needs_background": "light"
     },
     "output_type": "display_data"
    }
   ],
   "source": [
    "plt.figure(figsize=(10,5))\n",
    "# 점의 사이즈가 30인 산점도 그래프\n",
    "graph = sns.scatterplot(x=\"cor\", y=\"rmse\", data=score_df, s=30)\n",
    "# 각 점에 대한 모델명 표시\n",
    "for idx in range(0, score_df.shape[0]):\n",
    "    graph.text(score_df.cor[idx]+0.00005 , score_df.rmse[idx]-0.00003, \n",
    "               score_df.model[idx], horizontalalignment='left', \n",
    "               size='medium', color='black', weight='semibold')\n",
    "plt.xlim((score_df.cor.min()-0.001, score_df.cor.max()+0.001)) # x축 범위 지정\n",
    "plt.ylim((score_df.rmse.min()-0.005, score_df.rmse.max()+0.005)) # y축 범위 지정\n",
    "plt.grid() # 격자 무늬\n",
    "plt.show()"
   ]
  },
  {
   "cell_type": "markdown",
   "metadata": {},
   "source": [
    "#### 3.5.1.2. 여러 가지 앙상블 기법"
   ]
  },
  {
   "cell_type": "code",
   "execution_count": 114,
   "metadata": {
    "scrolled": true
   },
   "outputs": [
    {
     "name": "stdout",
     "output_type": "stream",
     "text": [
      "ensemble_model1+model5.csv가 저장되었습니다!\n"
     ]
    }
   ],
   "source": [
    "ensemble_dir = \"C:/dacon/submission/Ensemble1/\"\n",
    "\n",
    "# 'Ensemble1' 폴더가 없다면 'Ensemble1' 폴더를 생성\n",
    "if not os.path.isdir(ensemble_dir):                                                           \n",
    "    os.mkdir(ensemble_dir)\n",
    "\n",
    "# 'Ensemble1' 폴더로 파일 이동\n",
    "import shutil\n",
    "shutil.move(sub_dir + 'model1_lgbm=2.29.csv', ensemble_dir + 'model1_lgbm=2.29.csv')\n",
    "shutil.move(sub_dir + 'model5_rf=2.31.csv', ensemble_dir + 'model5_rf=2.31.csv')\n",
    "\n",
    "# model1_lgbm=2.29.csv, model5_rf=2.31.csv 멱 평균\n",
    "nf = 0\n",
    "for f in os.listdir(ensemble_dir):\n",
    "    ext = os.path.splitext(f)[-1] # 'Ensemble1' 폴더에 있는 파일의 확장자를 분리\n",
    "\n",
    "    if ext == '.csv': \n",
    "        sub = pd.read_csv(ensemble_dir + f) # 확장자명이 .csv라면 해당 데이터를 로드\n",
    "    else: \n",
    "        continue # 확장자명이 .csv가 아니라면 for문을 종료\n",
    "\n",
    "    if len(sub.columns) !=2:\n",
    "        continue # 로드한 데이터의 변수의 수가 2개가 아니라면 for문을 종료\n",
    "\n",
    "    # 파일의 확장자명이 .csv이고, 변수의 수가 2개인 경우에만 밑의 조건문이 실행됩니다.\n",
    "    if nf == 0:\n",
    "        sub_df = sub # nf가 0이면 해당 데이터(sub)를 sub_df 에 저장\n",
    "    else: \n",
    "        sub_df = pd.merge(sub_df, sub, on=\"id\") # nf가 0이 아니면 해당 데이터를 sub_df와 병합\n",
    "    \n",
    "    nf += 1\n",
    "\n",
    "p = 21 # 하이퍼파라미터이므로 최적의 값을 찾아야 합니다.\n",
    "\n",
    "# 파일의 개수(nf)가 2개 이상인 경우에만 밑의 조건문이 실행됩니다.\n",
    "if nf >= 2: \n",
    "    pred = 0\n",
    "    \n",
    "    # 앞서 소개한 멱 평균의 식을 나타낸 코드입니다.\n",
    "    for j in range(nf):\n",
    "        pred = pred + sub_df.iloc[:,j+1]**p\n",
    "    pred = pred / nf    \n",
    "    pred = pred**(1/p)\n",
    "    \n",
    "    # 멱 평균 결과를 대입하여 데이터프레임 submit을 생성하고, csv파일로 저장 \n",
    "    submit = pd.DataFrame({'id': sub_df.id, '18~20_ride': pred})\n",
    "    fname = \"ensemble_model1+model5.csv\"\n",
    "    submit.to_csv(fname, index=False)\n",
    "    \n",
    "    print(fname + '가 저장되었습니다!')"
   ]
  },
  {
   "cell_type": "code",
   "execution_count": 115,
   "metadata": {},
   "outputs": [
    {
     "name": "stdout",
     "output_type": "stream",
     "text": [
      "ensemble_model2+model4.csv가 저장되었습니다!\n"
     ]
    }
   ],
   "source": [
    "ensemble_dir = \"C:/dacon/submission/Ensemble2/\"\n",
    "\n",
    "# 'Ensemble2 폴더가 없다면 'Ensemble2' 폴더를 생성\n",
    "if not os.path.isdir(ensemble_dir):                                                           \n",
    "    os.mkdir(ensemble_dir)\n",
    "\n",
    "# 'Ensemble2' 폴더로 파일 이동\n",
    "import shutil\n",
    "shutil.move(sub_dir + 'model2_rf=2.34.csv', ensemble_dir + 'model2_rf=2.34.csv')\n",
    "shutil.move(sub_dir + 'model4_rf=2.36.csv', ensemble_dir + 'model4_rf=2.36.csv')\n",
    "\n",
    "# model2_rf=2.34.csv, model4_rf=2.36.csv 멱 평균\n",
    "nf = 0\n",
    "for f in os.listdir(ensemble_dir):\n",
    "    ext = os.path.splitext(f)[-1] # 'Ensemble2' 폴더에 있는 파일의 확장자를 분리\n",
    "\n",
    "    if ext == '.csv': \n",
    "        sub = pd.read_csv(ensemble_dir + f) # 확장자명이 .csv라면 해당 데이터를 로드\n",
    "    else: \n",
    "        continue # 확장자명이 .csv가 아니라면 for문을 종료\n",
    "\n",
    "    if len(sub.columns) !=2:\n",
    "        continue # 로드한 데이터의 변수의 수가 2개가 아니라면 for문을 종료\n",
    "\n",
    "    # 파일의 확장자명이 .csv이고, 변수의 수가 2개인 경우에만 밑의 조건문이 실행됩니다.\n",
    "    if nf == 0:\n",
    "        sub_df = sub # nf가 0이면 해당 데이터(sub)를 sub_df 에 저장\n",
    "    else: \n",
    "        sub_df = pd.merge(sub_df, sub, on=\"id\") # nf가 0이 아니면 해당 데이터를 sub_df와 병합\n",
    "    \n",
    "    nf += 1\n",
    "\n",
    "p = 21 # 하이퍼파라미터이므로 최적의 값을 찾아야 합니다.\n",
    "\n",
    "# 파일의 개수(nf)가 2개 이상인 경우에만 밑의 조건문이 실행됩니다.\n",
    "if nf >= 2: \n",
    "    pred = 0\n",
    "    \n",
    "    # 앞서 소개한 멱 평균의 식을 나타낸 코드입니다.\n",
    "    for j in range(nf):\n",
    "        pred = pred + sub_df.iloc[:,j+1]**p\n",
    "    pred = pred / nf    \n",
    "    pred = pred**(1/p)\n",
    "\n",
    "    # 멱 평균 결과를 대입하여 데이터프레임 submit을 생성하고, csv파일로 저장\n",
    "    submit = pd.DataFrame({'id': sub_df.id, '18~20_ride': pred}) \n",
    "    fname = \"ensemble_model2+model4.csv\"\n",
    "    submit.to_csv(fname, index=False)\n",
    "    \n",
    "    print(fname + '가 저장되었습니다!')"
   ]
  },
  {
   "cell_type": "code",
   "execution_count": 116,
   "metadata": {},
   "outputs": [],
   "source": [
    "# 앙상블 파일 로드\n",
    "first = pd.read_csv('ensemble_model1+model5.csv')\n",
    "second = pd.read_csv('ensemble_model2+model4.csv')\n",
    "third = pd.read_csv('model3_rf=2.38.csv')\n",
    "\n",
    "# 가중산술평균\n",
    "w_mean = 0.22*first['18~20_ride'] + 0.30*second['18~20_ride'] + 0.48*third['18~20_ride']\n",
    "\n",
    "# 최종submission 파일 생성\n",
    "sub['18~20_ride'] = w_mean\n",
    "sub.to_csv('final_submission.csv', index=False)"
   ]
  }
 ],
 "metadata": {
  "kernelspec": {
   "display_name": "Python 3",
   "language": "python",
   "name": "python3"
  },
  "language_info": {
   "codemirror_mode": {
    "name": "ipython",
    "version": 3
   },
   "file_extension": ".py",
   "mimetype": "text/x-python",
   "name": "python",
   "nbconvert_exporter": "python",
   "pygments_lexer": "ipython3",
   "version": "3.6.9"
  }
 },
 "nbformat": 4,
 "nbformat_minor": 2
}
